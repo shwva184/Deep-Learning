{
 "cells": [
  {
   "cell_type": "markdown",
   "metadata": {},
   "source": [
    "# Deep Neural Networks Laboration\n",
    "\n",
    "Data used in this laboration are from the Kitsune Network Attack Dataset, https://archive.ics.uci.edu/ml/datasets/Kitsune+Network+Attack+Dataset . We will focus on the 'Mirai' part of the dataset. Your task is to make a DNN that can classify if each attack is benign or malicious. The dataset has 116 covariates, but to make it a bit more difficult we will remove the first 24 covariates.\n",
    "\n",
    "You need to answer all questions in this notebook."
   ]
  },
  {
   "cell_type": "markdown",
   "metadata": {},
   "source": [
    "# Part 1: Get the data\n",
    "\n",
    "Skip this part if you load stored numpy arrays (Mirai*.npy) (which is recommended)\n",
    "\n",
    "Use `wget` in the terminal of your cloud machine (in the same directory as where you have saved this notebook) to download the data, i.e.\n",
    "\n",
    "wget https://archive.ics.uci.edu/ml/machine-learning-databases/00516/mirai/Mirai_dataset.csv.gz\n",
    "\n",
    "wget https://archive.ics.uci.edu/ml/machine-learning-databases/00516/mirai/Mirai_labels.csv.gz\n",
    "\n",
    "Then unpack the files using `gunzip` in the terminal, i.e.\n",
    "\n",
    "gunzip Mirai_dataset.csv.gz\n",
    "\n",
    "gunzip Mirai_labels.csv.gz"
   ]
  },
  {
   "cell_type": "markdown",
   "metadata": {},
   "source": [
    "# Part 2: Get a graphics card\n",
    "\n",
    "Skip this part if you run on the CPU\n",
    "\n",
    "Lets make sure that our script can see the graphics card that will be used. The graphics cards will perform all the time consuming calculations in every training iteration."
   ]
  },
  {
   "cell_type": "code",
   "execution_count": 2,
   "metadata": {},
   "outputs": [
    {
     "ename": "KeyboardInterrupt",
     "evalue": "",
     "output_type": "error",
     "traceback": [
      "\u001b[1;31m---------------------------------------------------------------------------\u001b[0m",
      "\u001b[1;31mKeyboardInterrupt\u001b[0m                         Traceback (most recent call last)",
      "\u001b[1;32m<ipython-input-2-14b1a117828f>\u001b[0m in \u001b[0;36m<module>\u001b[1;34m\u001b[0m\n\u001b[0;32m      5\u001b[0m \u001b[0mwarnings\u001b[0m\u001b[1;33m.\u001b[0m\u001b[0msimplefilter\u001b[0m\u001b[1;33m(\u001b[0m\u001b[0maction\u001b[0m\u001b[1;33m=\u001b[0m\u001b[1;34m'ignore'\u001b[0m\u001b[1;33m,\u001b[0m \u001b[0mcategory\u001b[0m\u001b[1;33m=\u001b[0m\u001b[0mFutureWarning\u001b[0m\u001b[1;33m)\u001b[0m\u001b[1;33m\u001b[0m\u001b[1;33m\u001b[0m\u001b[0m\n\u001b[0;32m      6\u001b[0m \u001b[1;33m\u001b[0m\u001b[0m\n\u001b[1;32m----> 7\u001b[1;33m \u001b[1;32mimport\u001b[0m \u001b[0mkeras\u001b[0m\u001b[1;33m.\u001b[0m\u001b[0mbackend\u001b[0m \u001b[1;32mas\u001b[0m \u001b[0mK\u001b[0m\u001b[1;33m\u001b[0m\u001b[1;33m\u001b[0m\u001b[0m\n\u001b[0m\u001b[0;32m      8\u001b[0m \u001b[1;32mimport\u001b[0m \u001b[0mtensorflow\u001b[0m \u001b[1;32mas\u001b[0m \u001b[0mtf\u001b[0m\u001b[1;33m\u001b[0m\u001b[1;33m\u001b[0m\u001b[0m\n\u001b[0;32m      9\u001b[0m \u001b[1;33m\u001b[0m\u001b[0m\n",
      "\u001b[1;32m~\\anaconda3\\envs\\mykeras\\lib\\site-packages\\keras\\__init__.py\u001b[0m in \u001b[0;36m<module>\u001b[1;34m\u001b[0m\n\u001b[0;32m      1\u001b[0m \u001b[1;33m\u001b[0m\u001b[0m\n\u001b[0;32m      2\u001b[0m \u001b[1;32mtry\u001b[0m\u001b[1;33m:\u001b[0m\u001b[1;33m\u001b[0m\u001b[1;33m\u001b[0m\u001b[0m\n\u001b[1;32m----> 3\u001b[1;33m     \u001b[1;32mfrom\u001b[0m \u001b[0mtensorflow\u001b[0m\u001b[1;33m.\u001b[0m\u001b[0mkeras\u001b[0m\u001b[1;33m.\u001b[0m\u001b[0mlayers\u001b[0m\u001b[1;33m.\u001b[0m\u001b[0mexperimental\u001b[0m\u001b[1;33m.\u001b[0m\u001b[0mpreprocessing\u001b[0m \u001b[1;32mimport\u001b[0m \u001b[0mRandomRotation\u001b[0m\u001b[1;33m\u001b[0m\u001b[1;33m\u001b[0m\u001b[0m\n\u001b[0m\u001b[0;32m      4\u001b[0m \u001b[1;32mexcept\u001b[0m \u001b[0mImportError\u001b[0m\u001b[1;33m:\u001b[0m\u001b[1;33m\u001b[0m\u001b[1;33m\u001b[0m\u001b[0m\n\u001b[0;32m      5\u001b[0m     raise ImportError(\n",
      "\u001b[1;32m~\\anaconda3\\envs\\mykeras\\lib\\site-packages\\tensorflow\\__init__.py\u001b[0m in \u001b[0;36m<module>\u001b[1;34m\u001b[0m\n\u001b[0;32m     52\u001b[0m \u001b[1;32mfrom\u001b[0m \u001b[1;33m.\u001b[0m\u001b[0m_api\u001b[0m\u001b[1;33m.\u001b[0m\u001b[0mv2\u001b[0m \u001b[1;32mimport\u001b[0m \u001b[0mautograph\u001b[0m\u001b[1;33m\u001b[0m\u001b[1;33m\u001b[0m\u001b[0m\n\u001b[0;32m     53\u001b[0m \u001b[1;32mfrom\u001b[0m \u001b[1;33m.\u001b[0m\u001b[0m_api\u001b[0m\u001b[1;33m.\u001b[0m\u001b[0mv2\u001b[0m \u001b[1;32mimport\u001b[0m \u001b[0mbitwise\u001b[0m\u001b[1;33m\u001b[0m\u001b[1;33m\u001b[0m\u001b[0m\n\u001b[1;32m---> 54\u001b[1;33m \u001b[1;32mfrom\u001b[0m \u001b[1;33m.\u001b[0m\u001b[0m_api\u001b[0m\u001b[1;33m.\u001b[0m\u001b[0mv2\u001b[0m \u001b[1;32mimport\u001b[0m \u001b[0mcompat\u001b[0m\u001b[1;33m\u001b[0m\u001b[1;33m\u001b[0m\u001b[0m\n\u001b[0m\u001b[0;32m     55\u001b[0m \u001b[1;32mfrom\u001b[0m \u001b[1;33m.\u001b[0m\u001b[0m_api\u001b[0m\u001b[1;33m.\u001b[0m\u001b[0mv2\u001b[0m \u001b[1;32mimport\u001b[0m \u001b[0mconfig\u001b[0m\u001b[1;33m\u001b[0m\u001b[1;33m\u001b[0m\u001b[0m\n\u001b[0;32m     56\u001b[0m \u001b[1;32mfrom\u001b[0m \u001b[1;33m.\u001b[0m\u001b[0m_api\u001b[0m\u001b[1;33m.\u001b[0m\u001b[0mv2\u001b[0m \u001b[1;32mimport\u001b[0m \u001b[0mdata\u001b[0m\u001b[1;33m\u001b[0m\u001b[1;33m\u001b[0m\u001b[0m\n",
      "\u001b[1;32m~\\anaconda3\\envs\\mykeras\\lib\\site-packages\\tensorflow\\_api\\v2\\compat\\__init__.py\u001b[0m in \u001b[0;36m<module>\u001b[1;34m\u001b[0m\n\u001b[0;32m     37\u001b[0m \u001b[1;32mimport\u001b[0m \u001b[0msys\u001b[0m \u001b[1;32mas\u001b[0m \u001b[0m_sys\u001b[0m\u001b[1;33m\u001b[0m\u001b[1;33m\u001b[0m\u001b[0m\n\u001b[0;32m     38\u001b[0m \u001b[1;33m\u001b[0m\u001b[0m\n\u001b[1;32m---> 39\u001b[1;33m \u001b[1;32mfrom\u001b[0m \u001b[1;33m.\u001b[0m \u001b[1;32mimport\u001b[0m \u001b[0mv1\u001b[0m\u001b[1;33m\u001b[0m\u001b[1;33m\u001b[0m\u001b[0m\n\u001b[0m\u001b[0;32m     40\u001b[0m \u001b[1;32mfrom\u001b[0m \u001b[1;33m.\u001b[0m \u001b[1;32mimport\u001b[0m \u001b[0mv2\u001b[0m\u001b[1;33m\u001b[0m\u001b[1;33m\u001b[0m\u001b[0m\n\u001b[0;32m     41\u001b[0m \u001b[1;32mfrom\u001b[0m \u001b[0mtensorflow\u001b[0m\u001b[1;33m.\u001b[0m\u001b[0mpython\u001b[0m\u001b[1;33m.\u001b[0m\u001b[0mcompat\u001b[0m\u001b[1;33m.\u001b[0m\u001b[0mcompat\u001b[0m \u001b[1;32mimport\u001b[0m \u001b[0mforward_compatibility_horizon\u001b[0m\u001b[1;33m\u001b[0m\u001b[1;33m\u001b[0m\u001b[0m\n",
      "\u001b[1;32m~\\anaconda3\\envs\\mykeras\\lib\\site-packages\\tensorflow\\_api\\v2\\compat\\v1\\__init__.py\u001b[0m in \u001b[0;36m<module>\u001b[1;34m\u001b[0m\n\u001b[0;32m     30\u001b[0m \u001b[1;32mfrom\u001b[0m \u001b[1;33m.\u001b[0m \u001b[1;32mimport\u001b[0m \u001b[0mapp\u001b[0m\u001b[1;33m\u001b[0m\u001b[1;33m\u001b[0m\u001b[0m\n\u001b[0;32m     31\u001b[0m \u001b[1;32mfrom\u001b[0m \u001b[1;33m.\u001b[0m \u001b[1;32mimport\u001b[0m \u001b[0maudio\u001b[0m\u001b[1;33m\u001b[0m\u001b[1;33m\u001b[0m\u001b[0m\n\u001b[1;32m---> 32\u001b[1;33m \u001b[1;32mfrom\u001b[0m \u001b[1;33m.\u001b[0m \u001b[1;32mimport\u001b[0m \u001b[0mautograph\u001b[0m\u001b[1;33m\u001b[0m\u001b[1;33m\u001b[0m\u001b[0m\n\u001b[0m\u001b[0;32m     33\u001b[0m \u001b[1;32mfrom\u001b[0m \u001b[1;33m.\u001b[0m \u001b[1;32mimport\u001b[0m \u001b[0mbitwise\u001b[0m\u001b[1;33m\u001b[0m\u001b[1;33m\u001b[0m\u001b[0m\n\u001b[0;32m     34\u001b[0m \u001b[1;32mfrom\u001b[0m \u001b[1;33m.\u001b[0m \u001b[1;32mimport\u001b[0m \u001b[0mcompat\u001b[0m\u001b[1;33m\u001b[0m\u001b[1;33m\u001b[0m\u001b[0m\n",
      "\u001b[1;32m~\\anaconda3\\envs\\mykeras\\lib\\site-packages\\tensorflow\\_api\\v2\\compat\\v1\\autograph\\__init__.py\u001b[0m in \u001b[0;36m<module>\u001b[1;34m\u001b[0m\n\u001b[0;32m     20\u001b[0m \u001b[1;32mimport\u001b[0m \u001b[0msys\u001b[0m \u001b[1;32mas\u001b[0m \u001b[0m_sys\u001b[0m\u001b[1;33m\u001b[0m\u001b[1;33m\u001b[0m\u001b[0m\n\u001b[0;32m     21\u001b[0m \u001b[1;33m\u001b[0m\u001b[0m\n\u001b[1;32m---> 22\u001b[1;33m \u001b[1;32mfrom\u001b[0m \u001b[1;33m.\u001b[0m \u001b[1;32mimport\u001b[0m \u001b[0mexperimental\u001b[0m\u001b[1;33m\u001b[0m\u001b[1;33m\u001b[0m\u001b[0m\n\u001b[0m\u001b[0;32m     23\u001b[0m \u001b[1;32mfrom\u001b[0m \u001b[0mtensorflow\u001b[0m\u001b[1;33m.\u001b[0m\u001b[0mpython\u001b[0m\u001b[1;33m.\u001b[0m\u001b[0mautograph\u001b[0m\u001b[1;33m.\u001b[0m\u001b[0mimpl\u001b[0m\u001b[1;33m.\u001b[0m\u001b[0mapi\u001b[0m \u001b[1;32mimport\u001b[0m \u001b[0mto_code_v1\u001b[0m \u001b[1;32mas\u001b[0m \u001b[0mto_code\u001b[0m\u001b[1;33m\u001b[0m\u001b[1;33m\u001b[0m\u001b[0m\n\u001b[0;32m     24\u001b[0m \u001b[1;32mfrom\u001b[0m \u001b[0mtensorflow\u001b[0m\u001b[1;33m.\u001b[0m\u001b[0mpython\u001b[0m\u001b[1;33m.\u001b[0m\u001b[0mautograph\u001b[0m\u001b[1;33m.\u001b[0m\u001b[0mimpl\u001b[0m\u001b[1;33m.\u001b[0m\u001b[0mapi\u001b[0m \u001b[1;32mimport\u001b[0m \u001b[0mto_graph_v1\u001b[0m \u001b[1;32mas\u001b[0m \u001b[0mto_graph\u001b[0m\u001b[1;33m\u001b[0m\u001b[1;33m\u001b[0m\u001b[0m\n",
      "\u001b[1;32m~\\anaconda3\\envs\\mykeras\\lib\\importlib\\_bootstrap.py\u001b[0m in \u001b[0;36m_find_and_load\u001b[1;34m(name, import_)\u001b[0m\n",
      "\u001b[1;32m~\\anaconda3\\envs\\mykeras\\lib\\importlib\\_bootstrap.py\u001b[0m in \u001b[0;36m_find_and_load_unlocked\u001b[1;34m(name, import_)\u001b[0m\n",
      "\u001b[1;32m~\\anaconda3\\envs\\mykeras\\lib\\importlib\\_bootstrap.py\u001b[0m in \u001b[0;36m_find_spec\u001b[1;34m(name, path, target)\u001b[0m\n",
      "\u001b[1;32m~\\anaconda3\\envs\\mykeras\\lib\\importlib\\_bootstrap_external.py\u001b[0m in \u001b[0;36mfind_spec\u001b[1;34m(cls, fullname, path, target)\u001b[0m\n",
      "\u001b[1;32m~\\anaconda3\\envs\\mykeras\\lib\\importlib\\_bootstrap_external.py\u001b[0m in \u001b[0;36m_get_spec\u001b[1;34m(cls, fullname, path, target)\u001b[0m\n",
      "\u001b[1;32m~\\anaconda3\\envs\\mykeras\\lib\\importlib\\_bootstrap_external.py\u001b[0m in \u001b[0;36mfind_spec\u001b[1;34m(self, fullname, target)\u001b[0m\n",
      "\u001b[1;32m~\\anaconda3\\envs\\mykeras\\lib\\importlib\\_bootstrap_external.py\u001b[0m in \u001b[0;36m_path_isfile\u001b[1;34m(path)\u001b[0m\n",
      "\u001b[1;32m~\\anaconda3\\envs\\mykeras\\lib\\importlib\\_bootstrap_external.py\u001b[0m in \u001b[0;36m_path_is_mode_type\u001b[1;34m(path, mode)\u001b[0m\n",
      "\u001b[1;32m~\\anaconda3\\envs\\mykeras\\lib\\importlib\\_bootstrap_external.py\u001b[0m in \u001b[0;36m_path_stat\u001b[1;34m(path)\u001b[0m\n",
      "\u001b[1;31mKeyboardInterrupt\u001b[0m: "
     ]
    }
   ],
   "source": [
    "import os\n",
    "import warnings\n",
    "\n",
    "# Ignore FutureWarning from numpy\n",
    "warnings.simplefilter(action='ignore', category=FutureWarning)\n",
    "\n",
    "import keras.backend as K\n",
    "import tensorflow as tf\n",
    "\n",
    "os.environ[\"CUDA_DEVICE_ORDER\"]=\"PCI_BUS_ID\";\n",
    " \n",
    "# The GPU id to use, usually either \"0\" or \"1\";\n",
    "os.environ[\"CUDA_VISIBLE_DEVICES\"]=\"0\";\n",
    "\n",
    "# Allow growth of GPU memory, otherwise it will always look like all the memory is being used\n",
    "physical_devices = tf.config.experimental.list_physical_devices('GPU')\n",
    "tf.config.experimental.set_memory_growth(physical_devices[0], True) "
   ]
  },
  {
   "cell_type": "markdown",
   "metadata": {},
   "source": [
    "# Part 3: Hardware\n",
    "\n",
    "Skip questions 1, 2, 3, 5, 6 if you use your own computer.\n",
    "\n",
    "In deep learning, the computer hardware is very important. You should always know what kind of hardware you are working on.\n",
    "\n",
    "Question 1: What graphics card is available in the cloud machine? Run 'nvidia-smi' in the terminal. \n",
    "\n",
    "Question 2: Google the name of the graphics card, how many CUDA cores does it have?\n",
    "\n",
    "Question 3: How much memory does the graphics card have?\n",
    "\n",
    "Question 4: What is stored in the GPU memory while training a DNN ?\n",
    "\n",
    "Answer : In the GPU memory, data batch size, parameters in the network, gradients etc can be stored.\n",
    "\n",
    "Question 5: What CPU is available in the cloud machine? How many cores does it have? Run 'lscpu' in the terminal.\n",
    "\n",
    "Question 6: How much CPU memory (RAM) is available in the cloud machine? Run 'free -g' in the terminal."
   ]
  },
  {
   "cell_type": "markdown",
   "metadata": {},
   "source": [
    "# Part 4: Load the data\n",
    "\n",
    "To make this step easier, directly load the data from saved numpy arrays (.npy) (recommended)\n",
    "\n",
    "\n",
    "Load the dataset from the csv files, it will take some time since it is almost 1.4 GB. \n",
    "\n",
    "We will use the function `genfromtxt` to load the data.\n",
    "\n",
    "https://docs.scipy.org/doc/numpy/reference/generated/numpy.genfromtxt.html\n",
    "\n",
    "Load the data from csv files the first time, then save the data as numpy files for faster loading the next time.\n"
   ]
  },
  {
   "cell_type": "code",
   "execution_count": 1,
   "metadata": {},
   "outputs": [
    {
     "name": "stdout",
     "output_type": "stream",
     "text": [
      "The covariates have size (764137, 92).\n",
      "The labels have size (764137,).\n",
      "{0.0: 121621, 1.0: 642516}\n"
     ]
    }
   ],
   "source": [
    "import numpy as np\n",
    "\n",
    "# Load data from numpy arrays\n",
    "X = np.load(r'C:\\Users\\suhan\\Downloads\\Laboration1_DNN\\Mirai_data.npy')\n",
    "Y = np.load(r'C:\\Users\\suhan\\Downloads\\Laboration1_DNN\\Mirai_labels.npy')\n",
    "\n",
    "# Remove the first 24 covariates (columns)\n",
    "\n",
    "X = np.delete(X, np.s_[0:24], 1)\n",
    "\n",
    "print('The covariates have size {}.'.format(X.shape))\n",
    "print('The labels have size {}.'.format(Y.shape))\n",
    "\n",
    "# Print the number of examples of each class\n",
    "\n",
    "Class, no_example = np.unique(Y, return_counts=True)\n",
    "print(dict(zip(Class, no_example)))"
   ]
  },
  {
   "cell_type": "markdown",
   "metadata": {},
   "source": [
    "# Part 5: How good is a naive classifier?\n",
    "\n",
    "Question 7: Given the number of examples from each class, how high classification performance can a naive classifier obtain? The naive classifier will assume that all examples belong to one class. Note: you do not need to make a naive classifier, this is a theoretical question, just to understand how good performance we can obtain by guessing that all examples belong to one class.\n",
    "\n",
    "Answer : If the naive classifier considers everything to be class 1 then we will have an accuracy of \n",
    "642516 / 764137 = 84% for the given data."
   ]
  },
  {
   "cell_type": "code",
   "execution_count": 2,
   "metadata": {},
   "outputs": [
    {
     "name": "stdout",
     "output_type": "stream",
     "text": [
      "0\n",
      "[0 0 0 0 0 0 0 0 0 0 0 0 0 0 0 0 0 0 0 0 0 0 0 0 0 0 0 0 0 0 0 0 0 0 0 0 0\n",
      " 0 0 0 0 0 0 0 0 0 0 0 0 0 0 0 0 0 0 0 0 0 0 0 0 0 0 0 0 0 0 0 0 0 0 0 0 0\n",
      " 0 0 0 0 0 0 0 0 0 0 0 0 0 0 0 0 0 0]\n"
     ]
    }
   ],
   "source": [
    "# It is common to have NaNs in the data, lets check for it. Hint: np.isnan()\n",
    "import numpy as np\n",
    "\n",
    "# Print the number of NaNs (not a number) in the labels\n",
    "\n",
    "print(sum(np.isnan(Y)))\n",
    "\n",
    "# Print the number of NaNs in the covariates\n",
    "\n",
    "print(sum(np.isnan(X)))"
   ]
  },
  {
   "cell_type": "markdown",
   "metadata": {},
   "source": [
    "# Part 6: Preprocessing\n",
    "\n",
    "Lets do some simple preprocessing"
   ]
  },
  {
   "cell_type": "code",
   "execution_count": 3,
   "metadata": {},
   "outputs": [
    {
     "name": "stdout",
     "output_type": "stream",
     "text": [
      "-2.565209060450084e-17\n",
      "0.9999999999999979\n"
     ]
    }
   ],
   "source": [
    "# Convert covariates to floats\n",
    "X = X.astype(float)\n",
    "\n",
    "# Convert labels to integers\n",
    "Y = Y.astype(int)\n",
    "\n",
    "# Remove mean of each covariate (column)\n",
    "\n",
    "for k in range(X.shape[1]):\n",
    "    X[:,k] = X[:, k] - np.mean(X[:, k])\n",
    "\n",
    "# Divide each covariate (column) by its standard deviation\n",
    "for k in range(X.shape[1]):\n",
    "    X[:,k] = X[:, k] / np.std(X[:,k])\n",
    "\n",
    "# Check that mean is 0 and standard deviation is 1 for all covariates, by printing mean and std\n",
    "\n",
    "print(np.mean(X[:,range(X.shape[1])]))\n",
    "print(np.std(X[:,range(X.shape[1])]))"
   ]
  },
  {
   "cell_type": "markdown",
   "metadata": {},
   "source": [
    "# Part 7: Split the dataset\n",
    "\n",
    "Use the first 70% of the dataset for training, leave the other 30% for validation and test, call the variables\n",
    "\n",
    "Xtrain (70%)\n",
    "\n",
    "Xtemp  (30%)\n",
    "\n",
    "Ytrain (70%)\n",
    "\n",
    "Ytemp  (30%)\n",
    "\n",
    "We use a function from scikit learn.\n",
    "https://scikit-learn.org/stable/modules/generated/sklearn.model_selection.train_test_split.html\n"
   ]
  },
  {
   "cell_type": "code",
   "execution_count": 4,
   "metadata": {},
   "outputs": [
    {
     "name": "stdout",
     "output_type": "stream",
     "text": [
      "Xtrain has size (534895, 92).\n",
      "Ytrain has size (534895,).\n",
      "Xtemp has size (229242, 92).\n",
      "Ytemp has size (229242,).\n",
      "The number of examples of each class for training data \n",
      "{0: 85249, 1: 449646}\n",
      "The number of examples of each class for testing data \n",
      "{0: 36372, 1: 192870}\n"
     ]
    }
   ],
   "source": [
    "# Your code\n",
    "from sklearn.model_selection import train_test_split\n",
    "\n",
    "Xtrain, Xtemp, Ytrain, Ytemp = train_test_split(X, Y, test_size=0.30, shuffle = True, random_state = 123)\n",
    "\n",
    "print('Xtrain has size {}.'.format(Xtrain.shape))\n",
    "print('Ytrain has size {}.'.format(Ytrain.shape))\n",
    "\n",
    "print('Xtemp has size {}.'.format(Xtemp.shape))\n",
    "print('Ytemp has size {}.'.format(Ytemp.shape))\n",
    "\n",
    "# Print the number of examples of each class, for the training data and the remaining 30%\n",
    "print(\"The number of examples of each class for training data \")\n",
    "classTrain, no_example = np.unique(Ytrain, return_counts=True)\n",
    "print(dict(zip(classTrain, no_example)))\n",
    "\n",
    "print(\"The number of examples of each class for testing data \")\n",
    "classTemp, no_example = np.unique(Ytemp, return_counts=True)\n",
    "print(dict(zip(classTemp, no_example)))\n"
   ]
  },
  {
   "cell_type": "markdown",
   "metadata": {},
   "source": [
    "#  Part 8: Split non-training data data into validation and test\n",
    "Now split your non-training data (Xtemp, Ytemp) into 50% validation (Xval, Yval) and 50% testing (Xtest, Ytest), we use a function from scikit learn. \n",
    "\n",
    "https://scikit-learn.org/stable/modules/generated/sklearn.model_selection.train_test_split.html\n",
    "\n",
    "Do all variables (Xtrain,Ytrain), (Xval,Yval), (Xtest,Ytest) have the shape that you expect?\n",
    "Yes"
   ]
  },
  {
   "cell_type": "code",
   "execution_count": 5,
   "metadata": {},
   "outputs": [
    {
     "name": "stdout",
     "output_type": "stream",
     "text": [
      "The validation and test data have size (114621, 92), (114621, 92), (114621,) and (114621,)\n"
     ]
    }
   ],
   "source": [
    "from sklearn.model_selection import train_test_split\n",
    "\n",
    "Xval, Xtest, Yval, Ytest = train_test_split(Xtemp, Ytemp, test_size=0.5)\n",
    "\n",
    "print('The validation and test data have size {}, {}, {} and {}'.format(Xval.shape, Xtest.shape, Yval.shape, Ytest.shape))"
   ]
  },
  {
   "cell_type": "markdown",
   "metadata": {},
   "source": [
    "# Part 9: DNN classification\n",
    "\n",
    "Finish this code to create a first version of the classifier using a DNN. Start with a simple network with 2 dense layers (with 20 nodes each), using sigmoid activation functions. The final dense layer should have a single node and a sigmoid activation function. We start with the SGD optimizer.\n",
    "\n",
    "For different parts of this notebook you need to go back here, add more things, and re-run this cell to re-define the build function.\n",
    "\n",
    "Relevant functions are\n",
    "\n",
    "`model.add()`, adds a layer to the network\n",
    "\n",
    "`Dense()`, a dense network layer\n",
    "\n",
    "`model.compile()`, compile the model, add \" metrics=['accuracy'] \" to print the classification accuracy during the training\n",
    "\n",
    "See https://keras.io/layers/core/ for information on how the `Dense()` function works\n",
    "\n",
    "Import a relevant cost / loss function for binary classification from keras.losses (https://keras.io/losses/)\n",
    "\n",
    "See the following links for how to compile, train and evaluate the model\n",
    "\n",
    "https://keras.io/api/models/model_training_apis/#compile-method\n",
    "\n",
    "https://keras.io/api/models/model_training_apis/#fit-method\n",
    "\n",
    "https://keras.io/api/models/model_training_apis/#evaluate-method\n"
   ]
  },
  {
   "cell_type": "code",
   "execution_count": 6,
   "metadata": {},
   "outputs": [],
   "source": [
    "from keras.models import Sequential, Model\n",
    "from keras.layers import Input, Dense\n",
    "from keras.optimizers import SGD, Adam\n",
    "from keras.losses import binary_crossentropy\n",
    "\n",
    "\n",
    "# Set seed from random number generator, for better comparisons\n",
    "from numpy.random import seed\n",
    "seed(123)\n",
    "\n",
    "def build_DNN(input_shape, n_layers, n_nodes, act_fun='sigmoid', optimizer='sgd', learning_rate=0.01, \n",
    "              use_bn=False, use_dropout=False, use_custom_dropout=False):\n",
    "    \n",
    "    # Setup optimizer, depending on input parameter string\n",
    "    if optimizer == 'sgd':\n",
    "        optimized = SGD(lr=learning_rate)\n",
    "    if optimizer == 'adam':\n",
    "        optimized = Adam(lr=learning_rate)\n",
    "   \n",
    "    \n",
    "    # Setup a sequential model\n",
    "    model = Sequential()\n",
    "\n",
    "    # Add layers to the model, using the input parameters of the build_DNN function\n",
    "    \n",
    "    # Add first layer, requires input shape\n",
    "    model.add(Dense(n_nodes, activation = act_fun, input_shape = input_shape))\n",
    "    if use_bn == True:\n",
    "        model.add(BatchNormalization())\n",
    "    if use_dropout == True:\n",
    "        model.add(Dropout(0.5))\n",
    "    if use_custom_dropout == True:\n",
    "        model.add(myDropout(rate = 0.5))\n",
    "    \n",
    "    # Add remaining layers, do not require input shape\n",
    "    for i in range(n_layers-1):\n",
    "        model.add(Dense(n_nodes, activation = act_fun))\n",
    "        if use_bn == True:\n",
    "            model.add(BatchNormalization())\n",
    "        if use_dropout == True:\n",
    "            model.add(Dropout(0.5))\n",
    "        if use_custom_dropout == True:\n",
    "            model.add(myDropout(rate = 0.5))\n",
    "          \n",
    "    \n",
    "    # Final layer\n",
    "    model.add(Dense(1, activation = 'sigmoid'))\n",
    "    \n",
    "    # Compile model\n",
    "    model.compile(optimizer= optimized,\n",
    "                 loss='binary_crossentropy',\n",
    "                 metrics=['accuracy'])\n",
    "    \n",
    "    return model"
   ]
  },
  {
   "cell_type": "code",
   "execution_count": 7,
   "metadata": {},
   "outputs": [],
   "source": [
    "# Lets define a help function for plotting the training results\n",
    "\n",
    "import matplotlib.pyplot as plt\n",
    "def plot_results(history):\n",
    "    \n",
    "    val_loss = history.history['val_loss']\n",
    "    acc = history.history['accuracy']\n",
    "    loss = history.history['loss']\n",
    "    val_acc = history.history['val_accuracy']\n",
    "    \n",
    "    plt.figure(figsize=(10,4))\n",
    "    plt.xlabel('Epochs')\n",
    "    plt.ylabel('Loss')\n",
    "    plt.plot(loss)\n",
    "    plt.plot(val_loss)\n",
    "    plt.legend(['Training','Validation'])\n",
    "\n",
    "    plt.figure(figsize=(10,4))\n",
    "    plt.xlabel('Epochs')\n",
    "    plt.ylabel('Accuracy')\n",
    "    plt.plot(acc)\n",
    "    plt.plot(val_acc)\n",
    "    plt.legend(['Training','Validation'])\n",
    "\n",
    "    plt.show()"
   ]
  },
  {
   "cell_type": "markdown",
   "metadata": {},
   "source": [
    "# Part 10: Train the DNN\n",
    "\n",
    "Time to train the DNN, we start simple with 2 layers with 20 nodes each, learning rate 0.1.\n",
    "\n",
    "Relevant functions\n",
    "\n",
    "`build_DNN`, the function we defined in Part 9, call it with the parameters you want to use\n",
    "\n",
    "`model.fit()`, train the model with some training data\n",
    "\n",
    "`model.evaluate()`, apply the trained model to some test data\n",
    "\n",
    "See the following links for how to train and evaluate the model\n",
    "\n",
    "https://keras.io/api/models/model_training_apis/#fit-method\n",
    "\n",
    "https://keras.io/api/models/model_training_apis/#evaluate-method\n"
   ]
  },
  {
   "cell_type": "markdown",
   "metadata": {},
   "source": [
    "### 2 layers, 20 nodes"
   ]
  },
  {
   "cell_type": "code",
   "execution_count": 75,
   "metadata": {
    "scrolled": true
   },
   "outputs": [
    {
     "name": "stdout",
     "output_type": "stream",
     "text": [
      "Epoch 1/20\n",
      "54/54 [==============================] - 1s 17ms/step - loss: 0.4383 - accuracy: 0.8406 - val_loss: 0.4006 - val_accuracy: 0.8416\n",
      "Epoch 2/20\n",
      "54/54 [==============================] - 1s 13ms/step - loss: 0.3817 - accuracy: 0.8406 - val_loss: 0.3570 - val_accuracy: 0.8416\n",
      "Epoch 3/20\n",
      "54/54 [==============================] - 1s 13ms/step - loss: 0.3351 - accuracy: 0.8406 - val_loss: 0.3074 - val_accuracy: 0.8416\n",
      "Epoch 4/20\n",
      "54/54 [==============================] - 1s 14ms/step - loss: 0.2860 - accuracy: 0.8406 - val_loss: 0.2610 - val_accuracy: 0.8416\n",
      "Epoch 5/20\n",
      "54/54 [==============================] - 1s 15ms/step - loss: 0.2460 - accuracy: 0.8501 - val_loss: 0.2285 - val_accuracy: 0.8594\n",
      "Epoch 6/20\n",
      "54/54 [==============================] - 1s 16ms/step - loss: 0.2207 - accuracy: 0.8685 - val_loss: 0.2095 - val_accuracy: 0.8911\n",
      "Epoch 7/20\n",
      "54/54 [==============================] - 1s 15ms/step - loss: 0.2062 - accuracy: 0.8935 - val_loss: 0.1987 - val_accuracy: 0.9002\n",
      "Epoch 8/20\n",
      "54/54 [==============================] - 1s 12ms/step - loss: 0.1977 - accuracy: 0.9000 - val_loss: 0.1921 - val_accuracy: 0.9049\n",
      "Epoch 9/20\n",
      "54/54 [==============================] - 1s 12ms/step - loss: 0.1922 - accuracy: 0.9033 - val_loss: 0.1875 - val_accuracy: 0.9064\n",
      "Epoch 10/20\n",
      "54/54 [==============================] - 1s 14ms/step - loss: 0.1884 - accuracy: 0.9044 - val_loss: 0.1842 - val_accuracy: 0.9075\n",
      "Epoch 11/20\n",
      "54/54 [==============================] - 1s 15ms/step - loss: 0.1854 - accuracy: 0.9055 - val_loss: 0.1815 - val_accuracy: 0.9080\n",
      "Epoch 12/20\n",
      "54/54 [==============================] - 1s 12ms/step - loss: 0.1830 - accuracy: 0.9059 - val_loss: 0.1794 - val_accuracy: 0.9085\n",
      "Epoch 13/20\n",
      "54/54 [==============================] - 1s 10ms/step - loss: 0.1810 - accuracy: 0.9063 - val_loss: 0.1775 - val_accuracy: 0.9089\n",
      "Epoch 14/20\n",
      "54/54 [==============================] - 1s 12ms/step - loss: 0.1793 - accuracy: 0.9064 - val_loss: 0.1760 - val_accuracy: 0.9092\n",
      "Epoch 15/20\n",
      "54/54 [==============================] - 1s 13ms/step - loss: 0.1779 - accuracy: 0.9067 - val_loss: 0.1746 - val_accuracy: 0.9096\n",
      "Epoch 16/20\n",
      "54/54 [==============================] - 1s 13ms/step - loss: 0.1766 - accuracy: 0.9071 - val_loss: 0.1734 - val_accuracy: 0.9098\n",
      "Epoch 17/20\n",
      "54/54 [==============================] - 1s 13ms/step - loss: 0.1754 - accuracy: 0.9074 - val_loss: 0.1723 - val_accuracy: 0.9099\n",
      "Epoch 18/20\n",
      "54/54 [==============================] - 1s 12ms/step - loss: 0.1744 - accuracy: 0.9077 - val_loss: 0.1714 - val_accuracy: 0.9104\n",
      "Epoch 19/20\n",
      "54/54 [==============================] - 1s 12ms/step - loss: 0.1735 - accuracy: 0.9080 - val_loss: 0.1705 - val_accuracy: 0.9105\n",
      "Epoch 20/20\n",
      "54/54 [==============================] - 1s 10ms/step - loss: 0.1727 - accuracy: 0.9082 - val_loss: 0.1697 - val_accuracy: 0.9108\n"
     ]
    }
   ],
   "source": [
    "# Setup some training parameters\n",
    "batch_size = 10000\n",
    "epochs = 20\n",
    "\n",
    "input_shape = (92,)\n",
    "\n",
    "# Build the model\n",
    "model1 = build_DNN(input_shape=input_shape, n_layers=2, n_nodes=20, act_fun='sigmoid', optimizer='sgd', learning_rate=0.1)\n",
    "              \n",
    "\n",
    "# Train the model, provide training data and validation data\n",
    "history1 = model1.fit(Xtrain, Ytrain,\n",
    "                      batch_size = batch_size,\n",
    "                      epochs = epochs,\n",
    "                      validation_data = (Xval, Yval)) "
   ]
  },
  {
   "cell_type": "code",
   "execution_count": 43,
   "metadata": {},
   "outputs": [
    {
     "name": "stdout",
     "output_type": "stream",
     "text": [
      "3582/3582 [==============================] - 3s 939us/step - loss: 0.1755 - accuracy: 0.9090\n",
      "Test loss: 0.1755\n",
      "Test accuracy: 0.9090\n"
     ]
    }
   ],
   "source": [
    "# Evaluate the model on the test data\n",
    "score = model1.evaluate(Xtest, Ytest)\n",
    "\n",
    "print('Test loss: %.4f' % score[0])\n",
    "print('Test accuracy: %.4f' % score[1])"
   ]
  },
  {
   "cell_type": "code",
   "execution_count": 44,
   "metadata": {},
   "outputs": [
    {
     "data": {
      "image/png": "[encoded data removed]",
      "text/plain": [
       "<Figure size 720x288 with 1 Axes>"
      ]
     },
     "metadata": {
      "needs_background": "light"
     },
     "output_type": "display_data"
    },
    {
     "data": {
      "image/png": "[encoded data removed]",
      "text/plain": [
       "<Figure size 720x288 with 1 Axes>"
      ]
     },
     "metadata": {
      "needs_background": "light"
     },
     "output_type": "display_data"
    }
   ],
   "source": [
    "# Plot the history from the training run\n",
    "plot_results(history1)"
   ]
  },
  {
   "cell_type": "markdown",
   "metadata": {},
   "source": [
    "# Part 11: More questions\n",
    "\n",
    "Question 8: What happens if you add several Dense layers without specifying the activation function?\n",
    "\n",
    "If no activation function is specified, it takes up default activation function which here is linear activation function(a(x) =x) so no activation function is applied. So input and output layers of the dense layer will be the same.\n",
    "\n",
    "Question 9: How are the weights in each dense layer initialized as default? How are the bias weights initialized?\n",
    "\n",
    "Each layer has its own default value. For most of the layers, such as Dense, convolution and RNN layers, the default kernel initializer is 'glorot_uniform' and the default bias intializer is 'zeros'."
   ]
  },
  {
   "cell_type": "markdown",
   "metadata": {},
   "source": [
    "# Part 12: Balancing the classes\n",
    "\n",
    "This dataset is rather unbalanced, we need to define class weights so that the training pays more attention to the class with fewer samples. We use a function in scikit learn\n",
    "\n",
    "https://scikit-learn.org/stable/modules/generated/sklearn.utils.class_weight.compute_class_weight.html"
   ]
  },
  {
   "cell_type": "code",
   "execution_count": 9,
   "metadata": {},
   "outputs": [
    {
     "name": "stdout",
     "output_type": "stream",
     "text": [
      "[3.13725088 0.59479568]\n"
     ]
    }
   ],
   "source": [
    "from sklearn.utils import class_weight\n",
    "\n",
    "# Calculate class weights\n",
    "classWeight = class_weight.compute_class_weight(class_weight = 'balanced',\n",
    "                                                classes = np.unique(Ytrain),\n",
    "                                                y= Ytrain)\n",
    "# Print the class weights\n",
    "print(classWeight)\n",
    "\n",
    "# Keras wants the weights in this form, uncomment and change value1 and value2 to your weights, \n",
    "# or get them from the array that is returned from class_weight\n",
    "\n",
    "class_weights = {0: 3.13725088,\n",
    "                 1: 0.59479568}\n"
   ]
  },
  {
   "cell_type": "markdown",
   "metadata": {},
   "source": [
    "### 2 layers, 20 nodes, class weights"
   ]
  },
  {
   "cell_type": "code",
   "execution_count": 76,
   "metadata": {
    "scrolled": true
   },
   "outputs": [
    {
     "name": "stdout",
     "output_type": "stream",
     "text": [
      "Epoch 1/20\n",
      "54/54 [==============================] - 1s 13ms/step - loss: 0.2071 - accuracy: 0.9006 - val_loss: 0.2316 - val_accuracy: 0.9001\n",
      "Epoch 2/20\n",
      "54/54 [==============================] - 1s 12ms/step - loss: 0.1932 - accuracy: 0.8987 - val_loss: 0.2331 - val_accuracy: 0.9009\n",
      "Epoch 3/20\n",
      "54/54 [==============================] - 1s 14ms/step - loss: 0.1914 - accuracy: 0.8994 - val_loss: 0.2324 - val_accuracy: 0.9013\n",
      "Epoch 4/20\n",
      "54/54 [==============================] - 1s 15ms/step - loss: 0.1899 - accuracy: 0.9000 - val_loss: 0.2308 - val_accuracy: 0.9020\n",
      "Epoch 5/20\n",
      "54/54 [==============================] - 1s 14ms/step - loss: 0.1886 - accuracy: 0.9006 - val_loss: 0.2303 - val_accuracy: 0.9026\n",
      "Epoch 6/20\n",
      "54/54 [==============================] - 1s 14ms/step - loss: 0.1874 - accuracy: 0.9013 - val_loss: 0.2288 - val_accuracy: 0.9034\n",
      "Epoch 7/20\n",
      "54/54 [==============================] - 1s 16ms/step - loss: 0.1863 - accuracy: 0.9022 - val_loss: 0.2282 - val_accuracy: 0.9043\n",
      "Epoch 8/20\n",
      "54/54 [==============================] - 1s 16ms/step - loss: 0.1854 - accuracy: 0.9033 - val_loss: 0.2278 - val_accuracy: 0.9053\n",
      "Epoch 9/20\n",
      "54/54 [==============================] - 1s 17ms/step - loss: 0.1846 - accuracy: 0.9043 - val_loss: 0.2270 - val_accuracy: 0.9064\n",
      "Epoch 10/20\n",
      "54/54 [==============================] - 1s 15ms/step - loss: 0.1838 - accuracy: 0.9054 - val_loss: 0.2265 - val_accuracy: 0.9073\n",
      "Epoch 11/20\n",
      "54/54 [==============================] - 1s 15ms/step - loss: 0.1831 - accuracy: 0.9062 - val_loss: 0.2256 - val_accuracy: 0.9082\n",
      "Epoch 12/20\n",
      "54/54 [==============================] - 1s 16ms/step - loss: 0.1825 - accuracy: 0.9070 - val_loss: 0.2260 - val_accuracy: 0.9088\n",
      "Epoch 13/20\n",
      "54/54 [==============================] - 1s 19ms/step - loss: 0.1819 - accuracy: 0.9075 - val_loss: 0.2242 - val_accuracy: 0.9095\n",
      "Epoch 14/20\n",
      "54/54 [==============================] - 1s 21ms/step - loss: 0.1813 - accuracy: 0.9081 - val_loss: 0.2235 - val_accuracy: 0.9100\n",
      "Epoch 15/20\n",
      "54/54 [==============================] - 1s 20ms/step - loss: 0.1808 - accuracy: 0.9085 - val_loss: 0.2241 - val_accuracy: 0.9102\n",
      "Epoch 16/20\n",
      "54/54 [==============================] - 1s 20ms/step - loss: 0.1804 - accuracy: 0.9087 - val_loss: 0.2238 - val_accuracy: 0.9105\n",
      "Epoch 17/20\n",
      "54/54 [==============================] - 1s 17ms/step - loss: 0.1799 - accuracy: 0.9090 - val_loss: 0.2232 - val_accuracy: 0.9109\n",
      "Epoch 18/20\n",
      "54/54 [==============================] - 1s 19ms/step - loss: 0.1795 - accuracy: 0.9093 - val_loss: 0.2229 - val_accuracy: 0.9111\n",
      "Epoch 19/20\n",
      "54/54 [==============================] - 1s 18ms/step - loss: 0.1791 - accuracy: 0.9095 - val_loss: 0.2223 - val_accuracy: 0.9113\n",
      "Epoch 20/20\n",
      "54/54 [==============================] - 1s 16ms/step - loss: 0.1787 - accuracy: 0.9098 - val_loss: 0.2223 - val_accuracy: 0.9114\n",
      "Model: \"sequential_22\"\n",
      "_________________________________________________________________\n",
      "Layer (type)                 Output Shape              Param #   \n",
      "=================================================================\n",
      "dense_76 (Dense)             (None, 20)                1860      \n",
      "_________________________________________________________________\n",
      "dense_77 (Dense)             (None, 20)                420       \n",
      "_________________________________________________________________\n",
      "dense_78 (Dense)             (None, 1)                 21        \n",
      "=================================================================\n",
      "Total params: 2,301\n",
      "Trainable params: 2,301\n",
      "Non-trainable params: 0\n",
      "_________________________________________________________________\n"
     ]
    }
   ],
   "source": [
    "batch_size = 10000\n",
    "epochs = 20\n",
    "\n",
    "input_shape = (92,)\n",
    "\n",
    "# Build the model\n",
    "model2 = build_DNN(input_shape=input_shape, n_layers=2, n_nodes=20, act_fun='sigmoid', optimizer='sgd', learning_rate=0.1)\n",
    "              \n",
    "\n",
    "# Train the model, provide training data and validation data\n",
    "history2 = model1.fit(Xtrain, Ytrain,\n",
    "                      batch_size = batch_size,\n",
    "                      epochs = epochs,\n",
    "                      class_weight = class_weights,\n",
    "                      validation_data = (Xval, Yval))\n",
    "model2.summary()"
   ]
  },
  {
   "cell_type": "code",
   "execution_count": 47,
   "metadata": {},
   "outputs": [
    {
     "name": "stdout",
     "output_type": "stream",
     "text": [
      "3582/3582 [==============================] - 3s 865us/step - loss: 0.6741 - accuracy: 0.8516\n",
      "Test loss: 0.6741\n",
      "Test accuracy: 0.8516\n"
     ]
    }
   ],
   "source": [
    "# Evaluate model on test data\n",
    "score = model2.evaluate(Xtest, Ytest)\n",
    "\n",
    "print('Test loss: %.4f' % score[0])\n",
    "print('Test accuracy: %.4f' % score[1])"
   ]
  },
  {
   "cell_type": "code",
   "execution_count": 48,
   "metadata": {},
   "outputs": [
    {
     "data": {
      "image/png": "[encoded data removed]",
      "text/plain": [
       "<Figure size 720x288 with 1 Axes>"
      ]
     },
     "metadata": {
      "needs_background": "light"
     },
     "output_type": "display_data"
    },
    {
     "data": {
      "image/png": "[encoded data removed]",
      "text/plain": [
       "<Figure size 720x288 with 1 Axes>"
      ]
     },
     "metadata": {
      "needs_background": "light"
     },
     "output_type": "display_data"
    }
   ],
   "source": [
    "plot_results(history2)"
   ]
  },
  {
   "cell_type": "markdown",
   "metadata": {},
   "source": [
    "# Part 13: More questions\n",
    "\n",
    "Skip questions 11 and 12 if you run on the CPU\n",
    "\n",
    "Question 10: Why do we have to use a batch size? Why can't we simply use all data at once? This is more relevant for even larger datasets.\n",
    "\n",
    "Answer: We can train the model with fewer samples which consumes less memory and increases the performance when we use batches of smaller size. We may not be able to put all the data in machine memory at once when the dataset is too big. Hence it is ideal to use smaller batch.\n",
    "\n",
    "Question 11: How busy is the GPU for a batch size of 100? How much GPU memory is used? Hint: run 'nvidia-smi' on the cloud computer a few times during training.\n",
    "\n",
    "Question 12: What is the processing time for one training epoch when the batch size is 100? What is the processing time for one epoch when the batch size is 1,000? What is the processing time for one epoch when the batch size is 10,000? Explain the results. \n",
    "\n",
    "Question 13: How many times are the weights in the DNN updated in each training epoch if the batch size is 100? How many times are the weights in the DNN updated in each training epoch if the batch size is 1,000? How many times are the weights in the DNN updated in each training epoch if the batch size is 10,000? \n",
    "\n",
    "Answer: Number of weight updates per epoch = number of training examples / batch size\n",
    "when the batch size = 100 i.e. 534895/100 = 5349 times, \n",
    "When the batch size = 1000 i.e. 534895/1000 =  535 times \n",
    "when the batch size = 10000 i.e. 534895/10000 = 54 times.\n",
    "\n",
    "Question 14: What limits how large the batch size can be?\n",
    "\n",
    "Answer: The batch size can be as large as the number of samples and can be smaller or equal than machine memory.\n",
    "\n",
    "Question 15: Generally speaking, how is the learning rate related to the batch size? If the batch size is decreased, how should the learning rate be changed?\n",
    "\n",
    "Answer: If the batch size is large, the learning rate should be large. If the batch size is small, even the learning rate should be small.\n",
    "\n",
    "Lets use a batch size of 10,000 from now on, and a learning rate of 0.1."
   ]
  },
  {
   "cell_type": "markdown",
   "metadata": {},
   "source": [
    "# Part 14: Increasing the complexity\n",
    "\n",
    "Lets try some different configurations of number of layers and number of nodes per layer.\n",
    "\n",
    "Question 16: How many trainable parameters does the network with 4 dense layers with 50 nodes each have, compared to the initial network with 2 layers and 20 nodes per layer? Hint: use model.summary()\n",
    "\n",
    "\n",
    "2 dense layers with 20 nodes : 2301 trainable parameters\n",
    "4 dense layers with 50 nodes : 3141 trainable parameters"
   ]
  },
  {
   "cell_type": "markdown",
   "metadata": {},
   "source": [
    "### 4 layers, 20 nodes, class weights"
   ]
  },
  {
   "cell_type": "code",
   "execution_count": 51,
   "metadata": {
    "scrolled": true
   },
   "outputs": [
    {
     "name": "stdout",
     "output_type": "stream",
     "text": [
      "Epoch 1/20\n",
      "54/54 [==============================] - 2s 28ms/step - loss: 0.6935 - accuracy: 0.3454 - val_loss: 0.6865 - val_accuracy: 0.8416\n",
      "Epoch 2/20\n",
      "54/54 [==============================] - 1s 20ms/step - loss: 0.6917 - accuracy: 0.6447 - val_loss: 0.6931 - val_accuracy: 0.4486\n",
      "Epoch 3/20\n",
      "54/54 [==============================] - 1s 19ms/step - loss: 0.6911 - accuracy: 0.7311 - val_loss: 0.6911 - val_accuracy: 0.8776\n",
      "Epoch 4/20\n",
      "54/54 [==============================] - 1s 20ms/step - loss: 0.6904 - accuracy: 0.7015 - val_loss: 0.6831 - val_accuracy: 0.8416\n",
      "Epoch 5/20\n",
      "54/54 [==============================] - 1s 19ms/step - loss: 0.6895 - accuracy: 0.8545 - val_loss: 0.6903 - val_accuracy: 0.8789\n",
      "Epoch 6/20\n",
      "54/54 [==============================] - 1s 20ms/step - loss: 0.6884 - accuracy: 0.7940 - val_loss: 0.6900 - val_accuracy: 0.8783\n",
      "Epoch 7/20\n",
      "54/54 [==============================] - 1s 19ms/step - loss: 0.6870 - accuracy: 0.8102 - val_loss: 0.6869 - val_accuracy: 0.8806\n",
      "Epoch 8/20\n",
      "54/54 [==============================] - 1s 21ms/step - loss: 0.6852 - accuracy: 0.8784 - val_loss: 0.6870 - val_accuracy: 0.8791\n",
      "Epoch 9/20\n",
      "54/54 [==============================] - 1s 20ms/step - loss: 0.6827 - accuracy: 0.8787 - val_loss: 0.6791 - val_accuracy: 0.8816\n",
      "Epoch 10/20\n",
      "54/54 [==============================] - 1s 19ms/step - loss: 0.6792 - accuracy: 0.8796 - val_loss: 0.6812 - val_accuracy: 0.8799\n",
      "Epoch 11/20\n",
      "54/54 [==============================] - 1s 20ms/step - loss: 0.6741 - accuracy: 0.8792 - val_loss: 0.6691 - val_accuracy: 0.8829\n",
      "Epoch 12/20\n",
      "54/54 [==============================] - 1s 20ms/step - loss: 0.6663 - accuracy: 0.8798 - val_loss: 0.6604 - val_accuracy: 0.8827\n",
      "Epoch 13/20\n",
      "54/54 [==============================] - 1s 19ms/step - loss: 0.6540 - accuracy: 0.8796 - val_loss: 0.6443 - val_accuracy: 0.8820\n",
      "Epoch 14/20\n",
      "54/54 [==============================] - 1s 19ms/step - loss: 0.6331 - accuracy: 0.8793 - val_loss: 0.6294 - val_accuracy: 0.8801\n",
      "Epoch 15/20\n",
      "54/54 [==============================] - 1s 17ms/step - loss: 0.5962 - accuracy: 0.8787 - val_loss: 0.5715 - val_accuracy: 0.8806\n",
      "Epoch 16/20\n",
      "54/54 [==============================] - 1s 21ms/step - loss: 0.5311 - accuracy: 0.8789 - val_loss: 0.4879 - val_accuracy: 0.8808\n",
      "Epoch 17/20\n",
      "54/54 [==============================] - 1s 15ms/step - loss: 0.4336 - accuracy: 0.8791 - val_loss: 0.3958 - val_accuracy: 0.8808\n",
      "Epoch 18/20\n",
      "54/54 [==============================] - 1s 15ms/step - loss: 0.3363 - accuracy: 0.8792 - val_loss: 0.3235 - val_accuracy: 0.8810\n",
      "Epoch 19/20\n",
      "54/54 [==============================] - 1s 16ms/step - loss: 0.2758 - accuracy: 0.8795 - val_loss: 0.2911 - val_accuracy: 0.8813\n",
      "Epoch 20/20\n",
      "54/54 [==============================] - 1s 18ms/step - loss: 0.2468 - accuracy: 0.8798 - val_loss: 0.2781 - val_accuracy: 0.8814\n",
      "Model: \"sequential_12\"\n",
      "_________________________________________________________________\n",
      "Layer (type)                 Output Shape              Param #   \n",
      "=================================================================\n",
      "dense_42 (Dense)             (None, 20)                1860      \n",
      "_________________________________________________________________\n",
      "dense_43 (Dense)             (None, 20)                420       \n",
      "_________________________________________________________________\n",
      "dense_44 (Dense)             (None, 20)                420       \n",
      "_________________________________________________________________\n",
      "dense_45 (Dense)             (None, 20)                420       \n",
      "_________________________________________________________________\n",
      "dense_46 (Dense)             (None, 1)                 21        \n",
      "=================================================================\n",
      "Total params: 3,141\n",
      "Trainable params: 3,141\n",
      "Non-trainable params: 0\n",
      "_________________________________________________________________\n"
     ]
    }
   ],
   "source": [
    "batch_size = 10000\n",
    "epochs = 20\n",
    "input_shape = (92,)\n",
    "\n",
    "# Build and train model\n",
    "model3 = build_DNN(input_shape=input_shape, n_layers=4, n_nodes=20, act_fun='sigmoid', optimizer='sgd', learning_rate=0.1, \n",
    "              use_bn=False, use_dropout=False, use_custom_dropout=False)\n",
    "\n",
    "history3 = model3.fit(Xtrain, Ytrain,\n",
    "                      batch_size = batch_size,\n",
    "                      epochs = epochs,\n",
    "                      class_weight=class_weights,\n",
    "                      validation_data = (Xval, Yval))\n",
    "\n",
    "model3.summary()"
   ]
  },
  {
   "cell_type": "code",
   "execution_count": 52,
   "metadata": {},
   "outputs": [
    {
     "name": "stdout",
     "output_type": "stream",
     "text": [
      "3582/3582 [==============================] - 3s 898us/step - loss: 0.2791 - accuracy: 0.8810\n",
      "Test loss: 0.2791\n",
      "Test accuracy: 0.8810\n"
     ]
    }
   ],
   "source": [
    "# Evaluate model on test data\n",
    "score = model3.evaluate(Xtest, Ytest)\n",
    "\n",
    "print('Test loss: %.4f' % score[0])\n",
    "print('Test accuracy: %.4f' % score[1])"
   ]
  },
  {
   "cell_type": "code",
   "execution_count": 53,
   "metadata": {},
   "outputs": [
    {
     "data": {
      "image/png": "[encoded data removed]",
      "text/plain": [
       "<Figure size 720x288 with 1 Axes>"
      ]
     },
     "metadata": {
      "needs_background": "light"
     },
     "output_type": "display_data"
    },
    {
     "data": {
      "image/png": "[encoded data removed]",
      "text/plain": [
       "<Figure size 720x288 with 1 Axes>"
      ]
     },
     "metadata": {
      "needs_background": "light"
     },
     "output_type": "display_data"
    }
   ],
   "source": [
    "plot_results(history3)"
   ]
  },
  {
   "cell_type": "markdown",
   "metadata": {},
   "source": [
    "### 2 layers, 50 nodes, class weights"
   ]
  },
  {
   "cell_type": "code",
   "execution_count": 54,
   "metadata": {
    "scrolled": true
   },
   "outputs": [
    {
     "name": "stdout",
     "output_type": "stream",
     "text": [
      "Epoch 1/20\n",
      "54/54 [==============================] - 1s 24ms/step - loss: 0.6379 - accuracy: 0.7559 - val_loss: 0.5547 - val_accuracy: 0.8878\n",
      "Epoch 2/20\n",
      "54/54 [==============================] - 1s 24ms/step - loss: 0.4473 - accuracy: 0.8851 - val_loss: 0.3625 - val_accuracy: 0.8857\n",
      "Epoch 3/20\n",
      "54/54 [==============================] - 1s 25ms/step - loss: 0.2938 - accuracy: 0.8842 - val_loss: 0.2893 - val_accuracy: 0.8865\n",
      "Epoch 4/20\n",
      "54/54 [==============================] - 1s 26ms/step - loss: 0.2419 - accuracy: 0.8858 - val_loss: 0.2695 - val_accuracy: 0.8884\n",
      "Epoch 5/20\n",
      "54/54 [==============================] - 1s 25ms/step - loss: 0.2248 - accuracy: 0.8878 - val_loss: 0.2614 - val_accuracy: 0.8906\n",
      "Epoch 6/20\n",
      "54/54 [==============================] - 1s 26ms/step - loss: 0.2165 - accuracy: 0.8896 - val_loss: 0.2577 - val_accuracy: 0.8917\n",
      "Epoch 7/20\n",
      "54/54 [==============================] - 1s 25ms/step - loss: 0.2112 - accuracy: 0.8906 - val_loss: 0.2519 - val_accuracy: 0.8927\n",
      "Epoch 8/20\n",
      "54/54 [==============================] - 1s 24ms/step - loss: 0.2072 - accuracy: 0.8918 - val_loss: 0.2495 - val_accuracy: 0.8942\n",
      "Epoch 9/20\n",
      "54/54 [==============================] - 1s 26ms/step - loss: 0.2041 - accuracy: 0.8932 - val_loss: 0.2466 - val_accuracy: 0.8958\n",
      "Epoch 10/20\n",
      "54/54 [==============================] - 1s 27ms/step - loss: 0.2014 - accuracy: 0.8947 - val_loss: 0.2450 - val_accuracy: 0.8969\n",
      "Epoch 11/20\n",
      "54/54 [==============================] - 1s 25ms/step - loss: 0.1992 - accuracy: 0.8957 - val_loss: 0.2413 - val_accuracy: 0.8977\n",
      "Epoch 12/20\n",
      "54/54 [==============================] - 1s 22ms/step - loss: 0.1972 - accuracy: 0.8963 - val_loss: 0.2404 - val_accuracy: 0.8980\n",
      "Epoch 13/20\n",
      "54/54 [==============================] - 1s 21ms/step - loss: 0.1954 - accuracy: 0.8965 - val_loss: 0.2368 - val_accuracy: 0.8984\n",
      "Epoch 14/20\n",
      "54/54 [==============================] - 1s 22ms/step - loss: 0.1938 - accuracy: 0.8967 - val_loss: 0.2375 - val_accuracy: 0.8985\n",
      "Epoch 15/20\n",
      "54/54 [==============================] - 1s 27ms/step - loss: 0.1924 - accuracy: 0.8969 - val_loss: 0.2354 - val_accuracy: 0.8989\n",
      "Epoch 16/20\n",
      "54/54 [==============================] - 1s 24ms/step - loss: 0.1911 - accuracy: 0.8973 - val_loss: 0.2335 - val_accuracy: 0.8994\n",
      "Epoch 17/20\n",
      "54/54 [==============================] - 1s 23ms/step - loss: 0.1899 - accuracy: 0.8979 - val_loss: 0.2324 - val_accuracy: 0.9000\n",
      "Epoch 18/20\n",
      "54/54 [==============================] - 1s 23ms/step - loss: 0.1888 - accuracy: 0.8986 - val_loss: 0.2315 - val_accuracy: 0.9008\n",
      "Epoch 19/20\n",
      "54/54 [==============================] - 1s 24ms/step - loss: 0.1878 - accuracy: 0.8994 - val_loss: 0.2292 - val_accuracy: 0.9016\n",
      "Epoch 20/20\n",
      "54/54 [==============================] - 1s 23ms/step - loss: 0.1869 - accuracy: 0.9003 - val_loss: 0.2291 - val_accuracy: 0.9022\n",
      "Model: \"sequential_13\"\n",
      "_________________________________________________________________\n",
      "Layer (type)                 Output Shape              Param #   \n",
      "=================================================================\n",
      "dense_47 (Dense)             (None, 50)                4650      \n",
      "_________________________________________________________________\n",
      "dense_48 (Dense)             (None, 50)                2550      \n",
      "_________________________________________________________________\n",
      "dense_49 (Dense)             (None, 1)                 51        \n",
      "=================================================================\n",
      "Total params: 7,251\n",
      "Trainable params: 7,251\n",
      "Non-trainable params: 0\n",
      "_________________________________________________________________\n"
     ]
    }
   ],
   "source": [
    "# Setup some training parameters\n",
    "batch_size = 10000\n",
    "epochs = 20\n",
    "input_shape = (92,)\n",
    "\n",
    "# Build and train model\n",
    "model4 = build_DNN(input_shape=input_shape, n_layers=2, n_nodes=50, act_fun='sigmoid', optimizer='sgd', learning_rate=0.1, \n",
    "              use_bn=False, use_dropout=False, use_custom_dropout=False)\n",
    "\n",
    "history4 = model4.fit(Xtrain, Ytrain,\n",
    "                      batch_size = batch_size,\n",
    "                      epochs = epochs,\n",
    "                      class_weight=class_weights,\n",
    "                      validation_data = (Xval, Yval))\n",
    "\n",
    "model4.summary()"
   ]
  },
  {
   "cell_type": "code",
   "execution_count": 55,
   "metadata": {},
   "outputs": [
    {
     "name": "stdout",
     "output_type": "stream",
     "text": [
      "3582/3582 [==============================] - 3s 829us/step - loss: 0.2311 - accuracy: 0.9024\n",
      "Test loss: 0.2311\n",
      "Test accuracy: 0.9024\n"
     ]
    }
   ],
   "source": [
    "# Evaluate model on test data\n",
    "score = model4.evaluate(Xtest, Ytest)\n",
    "\n",
    "print('Test loss: %.4f' % score[0])\n",
    "print('Test accuracy: %.4f' % score[1])"
   ]
  },
  {
   "cell_type": "code",
   "execution_count": 56,
   "metadata": {},
   "outputs": [
    {
     "data": {
      "image/png": "[encoded data removed]",
      "text/plain": [
       "<Figure size 720x288 with 1 Axes>"
      ]
     },
     "metadata": {
      "needs_background": "light"
     },
     "output_type": "display_data"
    },
    {
     "data": {
      "image/png": "[encoded data removed]",
      "text/plain": [
       "<Figure size 720x288 with 1 Axes>"
      ]
     },
     "metadata": {
      "needs_background": "light"
     },
     "output_type": "display_data"
    }
   ],
   "source": [
    "plot_results(history4)"
   ]
  },
  {
   "cell_type": "markdown",
   "metadata": {},
   "source": [
    "### 4 layers, 50 nodes, class weights"
   ]
  },
  {
   "cell_type": "code",
   "execution_count": 57,
   "metadata": {
    "scrolled": true
   },
   "outputs": [
    {
     "name": "stdout",
     "output_type": "stream",
     "text": [
      "Epoch 1/20\n",
      "54/54 [==============================] - 2s 40ms/step - loss: 0.6920 - accuracy: 0.6214 - val_loss: 0.6959 - val_accuracy: 0.1587\n",
      "Epoch 2/20\n",
      "54/54 [==============================] - 2s 37ms/step - loss: 0.6911 - accuracy: 0.5988 - val_loss: 0.6905 - val_accuracy: 0.8767\n",
      "Epoch 3/20\n",
      "54/54 [==============================] - 2s 41ms/step - loss: 0.6901 - accuracy: 0.7228 - val_loss: 0.6998 - val_accuracy: 0.1584\n",
      "Epoch 4/20\n",
      "54/54 [==============================] - 2s 40ms/step - loss: 0.6889 - accuracy: 0.7106 - val_loss: 0.6801 - val_accuracy: 0.8425\n",
      "Epoch 5/20\n",
      "54/54 [==============================] - 2s 35ms/step - loss: 0.6874 - accuracy: 0.7625 - val_loss: 0.6948 - val_accuracy: 0.1585\n",
      "Epoch 6/20\n",
      "54/54 [==============================] - 2s 37ms/step - loss: 0.6854 - accuracy: 0.8295 - val_loss: 0.6779 - val_accuracy: 0.8630\n",
      "Epoch 7/20\n",
      "54/54 [==============================] - 2s 37ms/step - loss: 0.6827 - accuracy: 0.8758 - val_loss: 0.6792 - val_accuracy: 0.8785\n",
      "Epoch 8/20\n",
      "54/54 [==============================] - 2s 36ms/step - loss: 0.6786 - accuracy: 0.8776 - val_loss: 0.6698 - val_accuracy: 0.8854\n",
      "Epoch 9/20\n",
      "54/54 [==============================] - 2s 37ms/step - loss: 0.6724 - accuracy: 0.8797 - val_loss: 0.6745 - val_accuracy: 0.8815\n",
      "Epoch 10/20\n",
      "54/54 [==============================] - 2s 34ms/step - loss: 0.6621 - accuracy: 0.8788 - val_loss: 0.6653 - val_accuracy: 0.8814\n",
      "Epoch 11/20\n",
      "54/54 [==============================] - 2s 33ms/step - loss: 0.6436 - accuracy: 0.8781 - val_loss: 0.6277 - val_accuracy: 0.8804\n",
      "Epoch 12/20\n",
      "54/54 [==============================] - 2s 31ms/step - loss: 0.6072 - accuracy: 0.8791 - val_loss: 0.5786 - val_accuracy: 0.8815\n",
      "Epoch 13/20\n",
      "54/54 [==============================] - 2s 31ms/step - loss: 0.5324 - accuracy: 0.8799 - val_loss: 0.4765 - val_accuracy: 0.8815\n",
      "Epoch 14/20\n",
      "54/54 [==============================] - 2s 34ms/step - loss: 0.4085 - accuracy: 0.8799 - val_loss: 0.3617 - val_accuracy: 0.8815\n",
      "Epoch 15/20\n",
      "54/54 [==============================] - 2s 32ms/step - loss: 0.2985 - accuracy: 0.8799 - val_loss: 0.2971 - val_accuracy: 0.8815\n",
      "Epoch 16/20\n",
      "54/54 [==============================] - 2s 32ms/step - loss: 0.2487 - accuracy: 0.8799 - val_loss: 0.2747 - val_accuracy: 0.8816\n",
      "Epoch 17/20\n",
      "54/54 [==============================] - 2s 33ms/step - loss: 0.2299 - accuracy: 0.8800 - val_loss: 0.2655 - val_accuracy: 0.8817\n",
      "Epoch 18/20\n",
      "54/54 [==============================] - 2s 30ms/step - loss: 0.2212 - accuracy: 0.8802 - val_loss: 0.2621 - val_accuracy: 0.8822\n",
      "Epoch 19/20\n",
      "54/54 [==============================] - 1s 26ms/step - loss: 0.2160 - accuracy: 0.8818 - val_loss: 0.2588 - val_accuracy: 0.8843\n",
      "Epoch 20/20\n",
      "54/54 [==============================] - 1s 25ms/step - loss: 0.2123 - accuracy: 0.8837 - val_loss: 0.2579 - val_accuracy: 0.8859\n",
      "Model: \"sequential_14\"\n",
      "_________________________________________________________________\n",
      "Layer (type)                 Output Shape              Param #   \n",
      "=================================================================\n",
      "dense_50 (Dense)             (None, 50)                4650      \n",
      "_________________________________________________________________\n",
      "dense_51 (Dense)             (None, 50)                2550      \n",
      "_________________________________________________________________\n",
      "dense_52 (Dense)             (None, 50)                2550      \n",
      "_________________________________________________________________\n",
      "dense_53 (Dense)             (None, 50)                2550      \n",
      "_________________________________________________________________\n",
      "dense_54 (Dense)             (None, 1)                 51        \n",
      "=================================================================\n",
      "Total params: 12,351\n",
      "Trainable params: 12,351\n",
      "Non-trainable params: 0\n",
      "_________________________________________________________________\n"
     ]
    }
   ],
   "source": [
    "# Setup some training parameters\n",
    "batch_size = 10000\n",
    "epochs = 20\n",
    "input_shape = (92,)\n",
    "\n",
    "# Build and train model\n",
    "model5 = build_DNN(input_shape=input_shape, n_layers=4, n_nodes=50, act_fun='sigmoid', optimizer='sgd', learning_rate=0.1, \n",
    "              use_bn=False, use_dropout=False, use_custom_dropout=False)\n",
    "\n",
    "history5 = model5.fit(Xtrain, Ytrain,\n",
    "                      batch_size = batch_size,\n",
    "                      epochs = epochs,\n",
    "                      class_weight=class_weights,\n",
    "                      validation_data = (Xval, Yval))\n",
    "\n",
    "model5.summary()"
   ]
  },
  {
   "cell_type": "code",
   "execution_count": 58,
   "metadata": {},
   "outputs": [
    {
     "name": "stdout",
     "output_type": "stream",
     "text": [
      "3582/3582 [==============================] - 2s 685us/step - loss: 0.2596 - accuracy: 0.8857\n",
      "Test loss: 0.2596\n",
      "Test accuracy: 0.8857\n"
     ]
    }
   ],
   "source": [
    "# Evaluate model on test data\n",
    "score = model5.evaluate(Xtest, Ytest)\n",
    "\n",
    "print('Test loss: %.4f' % score[0])\n",
    "print('Test accuracy: %.4f' % score[1])"
   ]
  },
  {
   "cell_type": "code",
   "execution_count": 59,
   "metadata": {},
   "outputs": [
    {
     "data": {
      "image/png": "[encoded data removed]",
      "text/plain": [
       "<Figure size 720x288 with 1 Axes>"
      ]
     },
     "metadata": {
      "needs_background": "light"
     },
     "output_type": "display_data"
    },
    {
     "data": {
      "image/png": "[encoded data removed]",
      "text/plain": [
       "<Figure size 720x288 with 1 Axes>"
      ]
     },
     "metadata": {
      "needs_background": "light"
     },
     "output_type": "display_data"
    }
   ],
   "source": [
    "plot_results(history5)"
   ]
  },
  {
   "cell_type": "markdown",
   "metadata": {},
   "source": [
    "# Part 15: Batch normalization\n",
    "\n",
    "Now add batch normalization after each dense layer in `build_DNN`. Remember to import BatchNormalization from keras.layers. \n",
    "\n",
    "See https://keras.io/layers/normalization/ for information about how to call the function.\n",
    "\n",
    "Question 17: Why is batch normalization important when training deep networks?\n",
    "\n",
    "Batch normalization improves speed, performance and stability when training deep networks. It is always ideal to have input centered around zero and has uniform range, but during training when we update parameters in one layer, it changes the input for the next layer, to avoid this we can perform batch normalization."
   ]
  },
  {
   "cell_type": "markdown",
   "metadata": {},
   "source": [
    "### 2 layers, 20 nodes, class weights, batch normalization"
   ]
  },
  {
   "cell_type": "code",
   "execution_count": 60,
   "metadata": {
    "scrolled": true
   },
   "outputs": [
    {
     "name": "stdout",
     "output_type": "stream",
     "text": [
      "Epoch 1/20\n",
      "54/54 [==============================] - 2s 29ms/step - loss: 0.2884 - accuracy: 0.8760 - val_loss: 0.4127 - val_accuracy: 0.8416\n",
      "Epoch 2/20\n",
      "54/54 [==============================] - 1s 26ms/step - loss: 0.2115 - accuracy: 0.8996 - val_loss: 0.3491 - val_accuracy: 0.8416\n",
      "Epoch 3/20\n",
      "54/54 [==============================] - 2s 29ms/step - loss: 0.1957 - accuracy: 0.9053 - val_loss: 0.2997 - val_accuracy: 0.8416\n",
      "Epoch 4/20\n",
      "54/54 [==============================] - 1s 27ms/step - loss: 0.1880 - accuracy: 0.9091 - val_loss: 0.2461 - val_accuracy: 0.8459\n",
      "Epoch 5/20\n",
      "54/54 [==============================] - 1s 27ms/step - loss: 0.1827 - accuracy: 0.9113 - val_loss: 0.2007 - val_accuracy: 0.8774\n",
      "Epoch 6/20\n",
      "54/54 [==============================] - 1s 24ms/step - loss: 0.1789 - accuracy: 0.9125 - val_loss: 0.1780 - val_accuracy: 0.9104\n",
      "Epoch 7/20\n",
      "54/54 [==============================] - 1s 25ms/step - loss: 0.1758 - accuracy: 0.9131 - val_loss: 0.1786 - val_accuracy: 0.9158\n",
      "Epoch 8/20\n",
      "54/54 [==============================] - 2s 29ms/step - loss: 0.1735 - accuracy: 0.9138 - val_loss: 0.1826 - val_accuracy: 0.9168\n",
      "Epoch 9/20\n",
      "54/54 [==============================] - 2s 30ms/step - loss: 0.1716 - accuracy: 0.9144 - val_loss: 0.1883 - val_accuracy: 0.9169\n",
      "Epoch 10/20\n",
      "54/54 [==============================] - 2s 29ms/step - loss: 0.1699 - accuracy: 0.9151 - val_loss: 0.1976 - val_accuracy: 0.9170\n",
      "Epoch 11/20\n",
      "54/54 [==============================] - 2s 31ms/step - loss: 0.1687 - accuracy: 0.9155 - val_loss: 0.1974 - val_accuracy: 0.9174\n",
      "Epoch 12/20\n",
      "54/54 [==============================] - 2s 30ms/step - loss: 0.1677 - accuracy: 0.9159 - val_loss: 0.2098 - val_accuracy: 0.9173\n",
      "Epoch 13/20\n",
      "54/54 [==============================] - 2s 32ms/step - loss: 0.1667 - accuracy: 0.9161 - val_loss: 0.1882 - val_accuracy: 0.9179\n",
      "Epoch 14/20\n",
      "54/54 [==============================] - 2s 29ms/step - loss: 0.1656 - accuracy: 0.9164 - val_loss: 0.1951 - val_accuracy: 0.9180\n",
      "Epoch 15/20\n",
      "54/54 [==============================] - 1s 27ms/step - loss: 0.1650 - accuracy: 0.9166 - val_loss: 0.1919 - val_accuracy: 0.9181\n",
      "Epoch 16/20\n",
      "54/54 [==============================] - 1s 25ms/step - loss: 0.1641 - accuracy: 0.9167 - val_loss: 0.1945 - val_accuracy: 0.9183\n",
      "Epoch 17/20\n",
      "54/54 [==============================] - 1s 26ms/step - loss: 0.1637 - accuracy: 0.9168 - val_loss: 0.1950 - val_accuracy: 0.9184\n",
      "Epoch 18/20\n",
      "54/54 [==============================] - 2s 30ms/step - loss: 0.1630 - accuracy: 0.9169 - val_loss: 0.2002 - val_accuracy: 0.9182\n",
      "Epoch 19/20\n",
      "54/54 [==============================] - 1s 23ms/step - loss: 0.1626 - accuracy: 0.9169 - val_loss: 0.1859 - val_accuracy: 0.9186\n",
      "Epoch 20/20\n",
      "54/54 [==============================] - 2s 29ms/step - loss: 0.1621 - accuracy: 0.9170 - val_loss: 0.1916 - val_accuracy: 0.9185\n"
     ]
    }
   ],
   "source": [
    "from keras.layers.normalization import BatchNormalization\n",
    "# Setup some training parameters\n",
    "batch_size = 10000\n",
    "epochs = 20\n",
    "input_shape = (92,)\n",
    "\n",
    "# Build and train model\n",
    "model6 = build_DNN(input_shape, n_layers=2, n_nodes=20, act_fun='sigmoid', optimizer='sgd', learning_rate=0.1, \n",
    "              use_bn=True, use_dropout=False, use_custom_dropout=False)\n",
    "\n",
    "history6 = model6.fit(Xtrain, Ytrain,\n",
    "                      batch_size = batch_size,\n",
    "                      epochs = epochs,\n",
    "                      class_weight=class_weights,\n",
    "                      validation_data = (Xval, Yval))"
   ]
  },
  {
   "cell_type": "code",
   "execution_count": 61,
   "metadata": {},
   "outputs": [
    {
     "name": "stdout",
     "output_type": "stream",
     "text": [
      "3582/3582 [==============================] - 3s 913us/step - loss: 0.1930 - accuracy: 0.9177\n",
      "Test loss: 0.1930\n",
      "Test accuracy: 0.9177\n"
     ]
    }
   ],
   "source": [
    "# Evaluate model on test data\n",
    "score = model6.evaluate(Xtest, Ytest)\n",
    "\n",
    "print('Test loss: %.4f' % score[0])\n",
    "print('Test accuracy: %.4f' % score[1])"
   ]
  },
  {
   "cell_type": "code",
   "execution_count": 62,
   "metadata": {},
   "outputs": [
    {
     "data": {
      "image/png": "[encoded data removed]",
      "text/plain": [
       "<Figure size 720x288 with 1 Axes>"
      ]
     },
     "metadata": {
      "needs_background": "light"
     },
     "output_type": "display_data"
    },
    {
     "data": {
      "image/png": "[encoded data removed]",
      "text/plain": [
       "<Figure size 720x288 with 1 Axes>"
      ]
     },
     "metadata": {
      "needs_background": "light"
     },
     "output_type": "display_data"
    }
   ],
   "source": [
    "plot_results(history6)"
   ]
  },
  {
   "cell_type": "markdown",
   "metadata": {},
   "source": [
    "# Part 16: Activation function\n",
    "\n",
    "Try changing the activation function in each layer from sigmoid to ReLU, write down the test accuracy.\n",
    "\n",
    "Note: the last layer should still have a sigmoid activation function.\n",
    "\n",
    "https://keras.io/api/layers/activations/"
   ]
  },
  {
   "cell_type": "markdown",
   "metadata": {},
   "source": [
    "### 2 layers, 20 nodes, class weights, ReLU, no batch normalization"
   ]
  },
  {
   "cell_type": "code",
   "execution_count": 63,
   "metadata": {
    "scrolled": true
   },
   "outputs": [
    {
     "name": "stdout",
     "output_type": "stream",
     "text": [
      "Epoch 1/20\n",
      "54/54 [==============================] - 1s 15ms/step - loss: 0.3170 - accuracy: 0.8595 - val_loss: 0.2716 - val_accuracy: 0.8906\n",
      "Epoch 2/20\n",
      "54/54 [==============================] - 1s 11ms/step - loss: 0.2067 - accuracy: 0.8923 - val_loss: 0.2491 - val_accuracy: 0.8965\n",
      "Epoch 3/20\n",
      "54/54 [==============================] - 1s 12ms/step - loss: 0.1943 - accuracy: 0.8966 - val_loss: 0.2412 - val_accuracy: 0.8997\n",
      "Epoch 4/20\n",
      "54/54 [==============================] - 1s 11ms/step - loss: 0.1884 - accuracy: 0.8993 - val_loss: 0.2308 - val_accuracy: 0.9027\n",
      "Epoch 5/20\n",
      "54/54 [==============================] - 1s 12ms/step - loss: 0.1848 - accuracy: 0.9026 - val_loss: 0.2300 - val_accuracy: 0.9059\n",
      "Epoch 6/20\n",
      "54/54 [==============================] - 1s 13ms/step - loss: 0.1820 - accuracy: 0.9052 - val_loss: 0.2283 - val_accuracy: 0.9073\n",
      "Epoch 7/20\n",
      "54/54 [==============================] - 1s 14ms/step - loss: 0.1797 - accuracy: 0.9065 - val_loss: 0.2233 - val_accuracy: 0.9089\n",
      "Epoch 8/20\n",
      "54/54 [==============================] - 1s 13ms/step - loss: 0.1778 - accuracy: 0.9078 - val_loss: 0.2207 - val_accuracy: 0.9102\n",
      "Epoch 9/20\n",
      "54/54 [==============================] - 1s 14ms/step - loss: 0.1761 - accuracy: 0.9088 - val_loss: 0.2158 - val_accuracy: 0.9112\n",
      "Epoch 10/20\n",
      "54/54 [==============================] - 1s 14ms/step - loss: 0.1745 - accuracy: 0.9096 - val_loss: 0.2163 - val_accuracy: 0.9118\n",
      "Epoch 11/20\n",
      "54/54 [==============================] - 1s 15ms/step - loss: 0.1731 - accuracy: 0.9108 - val_loss: 0.2152 - val_accuracy: 0.9134\n",
      "Epoch 12/20\n",
      "54/54 [==============================] - 1s 16ms/step - loss: 0.1719 - accuracy: 0.9121 - val_loss: 0.2141 - val_accuracy: 0.9141\n",
      "Epoch 13/20\n",
      "54/54 [==============================] - 1s 15ms/step - loss: 0.1709 - accuracy: 0.9129 - val_loss: 0.2144 - val_accuracy: 0.9151\n",
      "Epoch 14/20\n",
      "54/54 [==============================] - 1s 14ms/step - loss: 0.1699 - accuracy: 0.9138 - val_loss: 0.2125 - val_accuracy: 0.9158\n",
      "Epoch 15/20\n",
      "54/54 [==============================] - 1s 13ms/step - loss: 0.1690 - accuracy: 0.9142 - val_loss: 0.2089 - val_accuracy: 0.9161\n",
      "Epoch 16/20\n",
      "54/54 [==============================] - 1s 15ms/step - loss: 0.1683 - accuracy: 0.9145 - val_loss: 0.2109 - val_accuracy: 0.9162\n",
      "Epoch 17/20\n",
      "54/54 [==============================] - 1s 12ms/step - loss: 0.1676 - accuracy: 0.9147 - val_loss: 0.2087 - val_accuracy: 0.9165\n",
      "Epoch 18/20\n",
      "54/54 [==============================] - 1s 12ms/step - loss: 0.1670 - accuracy: 0.9149 - val_loss: 0.2078 - val_accuracy: 0.9166\n",
      "Epoch 19/20\n",
      "54/54 [==============================] - 1s 13ms/step - loss: 0.1664 - accuracy: 0.9150 - val_loss: 0.2080 - val_accuracy: 0.9167\n",
      "Epoch 20/20\n",
      "54/54 [==============================] - 1s 13ms/step - loss: 0.1659 - accuracy: 0.9152 - val_loss: 0.2064 - val_accuracy: 0.9169\n"
     ]
    }
   ],
   "source": [
    "# Setup some training parameters\n",
    "batch_size = 10000\n",
    "epochs = 20\n",
    "input_shape = (92,)\n",
    "\n",
    "# Build and train model\n",
    "model7 = build_DNN(input_shape, n_layers=2, n_nodes=20, act_fun='relu', optimizer='sgd', learning_rate=0.1, \n",
    "              use_bn=False, use_dropout=False, use_custom_dropout=False)\n",
    "\n",
    "history7 = model7.fit(Xtrain, Ytrain,\n",
    "                      batch_size = batch_size,\n",
    "                      epochs = epochs,\n",
    "                      class_weight=class_weights,\n",
    "                      validation_data = (Xval, Yval))"
   ]
  },
  {
   "cell_type": "code",
   "execution_count": 64,
   "metadata": {},
   "outputs": [
    {
     "name": "stdout",
     "output_type": "stream",
     "text": [
      "3582/3582 [==============================] - 3s 852us/step - loss: 0.2088 - accuracy: 0.9162\n",
      "Test loss: 0.2088\n",
      "Test accuracy: 0.9162\n"
     ]
    }
   ],
   "source": [
    "# Evaluate model on test data\n",
    "score = model7.evaluate(Xtest, Ytest)\n",
    "\n",
    "print('Test loss: %.4f' % score[0])\n",
    "print('Test accuracy: %.4f' % score[1])"
   ]
  },
  {
   "cell_type": "code",
   "execution_count": 65,
   "metadata": {},
   "outputs": [
    {
     "data": {
      "image/png": "[encoded data removed]",
      "text/plain": [
       "<Figure size 720x288 with 1 Axes>"
      ]
     },
     "metadata": {
      "needs_background": "light"
     },
     "output_type": "display_data"
    },
    {
     "data": {
      "image/png": "[encoded data removed]",
      "text/plain": [
       "<Figure size 720x288 with 1 Axes>"
      ]
     },
     "metadata": {
      "needs_background": "light"
     },
     "output_type": "display_data"
    }
   ],
   "source": [
    "plot_results(history7)"
   ]
  },
  {
   "cell_type": "markdown",
   "metadata": {},
   "source": [
    "# Part 17: Optimizer\n",
    "\n",
    "Try changing the optimizer from SGD to Adam (with learning rate 0.1 as before). Remember to import the Adam optimizer from keras.optimizers. \n",
    "\n",
    "https://keras.io/optimizers/\n"
   ]
  },
  {
   "cell_type": "markdown",
   "metadata": {},
   "source": [
    "### 2 layers, 20 nodes, class weights, Adam optimizer, no batch normalization, sigmoid activations"
   ]
  },
  {
   "cell_type": "code",
   "execution_count": 68,
   "metadata": {
    "scrolled": true
   },
   "outputs": [
    {
     "name": "stdout",
     "output_type": "stream",
     "text": [
      "Epoch 1/20\n",
      "54/54 [==============================] - 1s 18ms/step - loss: 0.2337 - accuracy: 0.8878 - val_loss: 0.2178 - val_accuracy: 0.9148\n",
      "Epoch 2/20\n",
      "54/54 [==============================] - 1s 15ms/step - loss: 0.1684 - accuracy: 0.9146 - val_loss: 0.2062 - val_accuracy: 0.9175\n",
      "Epoch 3/20\n",
      "54/54 [==============================] - 1s 15ms/step - loss: 0.1638 - accuracy: 0.9166 - val_loss: 0.2018 - val_accuracy: 0.9181\n",
      "Epoch 4/20\n",
      "54/54 [==============================] - 1s 16ms/step - loss: 0.1609 - accuracy: 0.9175 - val_loss: 0.1980 - val_accuracy: 0.9196\n",
      "Epoch 5/20\n",
      "54/54 [==============================] - 1s 14ms/step - loss: 0.1591 - accuracy: 0.9185 - val_loss: 0.2101 - val_accuracy: 0.9207\n",
      "Epoch 6/20\n",
      "54/54 [==============================] - 1s 12ms/step - loss: 0.1573 - accuracy: 0.9195 - val_loss: 0.2008 - val_accuracy: 0.9217\n",
      "Epoch 7/20\n",
      "54/54 [==============================] - 1s 13ms/step - loss: 0.1554 - accuracy: 0.9204 - val_loss: 0.2003 - val_accuracy: 0.9215\n",
      "Epoch 8/20\n",
      "54/54 [==============================] - 1s 14ms/step - loss: 0.1552 - accuracy: 0.9199 - val_loss: 0.1909 - val_accuracy: 0.9212\n",
      "Epoch 9/20\n",
      "54/54 [==============================] - 1s 12ms/step - loss: 0.1533 - accuracy: 0.9203 - val_loss: 0.1993 - val_accuracy: 0.9213\n",
      "Epoch 10/20\n",
      "54/54 [==============================] - 1s 12ms/step - loss: 0.1518 - accuracy: 0.9208 - val_loss: 0.1875 - val_accuracy: 0.9222\n",
      "Epoch 11/20\n",
      "54/54 [==============================] - 1s 13ms/step - loss: 0.1503 - accuracy: 0.9205 - val_loss: 0.2112 - val_accuracy: 0.9204\n",
      "Epoch 12/20\n",
      "54/54 [==============================] - 1s 13ms/step - loss: 0.1478 - accuracy: 0.9216 - val_loss: 0.1805 - val_accuracy: 0.9273\n",
      "Epoch 13/20\n",
      "54/54 [==============================] - 1s 11ms/step - loss: 0.1479 - accuracy: 0.9235 - val_loss: 0.2070 - val_accuracy: 0.9233\n",
      "Epoch 14/20\n",
      "54/54 [==============================] - 1s 12ms/step - loss: 0.1427 - accuracy: 0.9270 - val_loss: 0.1697 - val_accuracy: 0.9305\n",
      "Epoch 15/20\n",
      "54/54 [==============================] - 1s 12ms/step - loss: 0.1399 - accuracy: 0.9296 - val_loss: 0.1604 - val_accuracy: 0.9316\n",
      "Epoch 16/20\n",
      "54/54 [==============================] - 1s 12ms/step - loss: 0.1389 - accuracy: 0.9300 - val_loss: 0.1725 - val_accuracy: 0.9321\n",
      "Epoch 17/20\n",
      "54/54 [==============================] - 1s 13ms/step - loss: 0.1367 - accuracy: 0.9313 - val_loss: 0.1998 - val_accuracy: 0.9271\n",
      "Epoch 18/20\n",
      "54/54 [==============================] - 1s 12ms/step - loss: 0.1418 - accuracy: 0.9284 - val_loss: 0.1567 - val_accuracy: 0.9306\n",
      "Epoch 19/20\n",
      "54/54 [==============================] - 1s 11ms/step - loss: 0.1388 - accuracy: 0.9303 - val_loss: 0.1722 - val_accuracy: 0.9309\n",
      "Epoch 20/20\n",
      "54/54 [==============================] - 1s 12ms/step - loss: 0.1341 - accuracy: 0.9321 - val_loss: 0.1607 - val_accuracy: 0.9341\n"
     ]
    }
   ],
   "source": [
    "# Setup some training parameters\n",
    "batch_size = 10000\n",
    "epochs = 20\n",
    "input_shape = (92,)\n",
    "\n",
    "# Build and train model\n",
    "model8 = build_DNN(input_shape, n_layers=2, n_nodes=20, act_fun='sigmoid', optimizer='adam', learning_rate=0.1, \n",
    "              use_bn=False, use_dropout=False, use_custom_dropout=False)\n",
    "\n",
    "history8 = model8.fit(Xtrain, Ytrain,\n",
    "                      batch_size = batch_size,\n",
    "                      epochs = epochs,\n",
    "                      class_weight=class_weights,\n",
    "                      validation_data = (Xval, Yval))"
   ]
  },
  {
   "cell_type": "code",
   "execution_count": 69,
   "metadata": {},
   "outputs": [
    {
     "name": "stdout",
     "output_type": "stream",
     "text": [
      "3582/3582 [==============================] - 3s 821us/step - loss: 0.1604 - accuracy: 0.9339\n",
      "Test loss: 0.1604\n",
      "Test accuracy: 0.9339\n"
     ]
    }
   ],
   "source": [
    "# Evaluate model on test data\n",
    "score = model8.evaluate(Xtest, Ytest)\n",
    "\n",
    "print('Test loss: %.4f' % score[0])\n",
    "print('Test accuracy: %.4f' % score[1])"
   ]
  },
  {
   "cell_type": "code",
   "execution_count": 70,
   "metadata": {},
   "outputs": [
    {
     "data": {
      "image/png": "[encoded data removed]",
      "text/plain": [
       "<Figure size 720x288 with 1 Axes>"
      ]
     },
     "metadata": {
      "needs_background": "light"
     },
     "output_type": "display_data"
    },
    {
     "data": {
      "image/png": "[encoded data removed]",
      "text/plain": [
       "<Figure size 720x288 with 1 Axes>"
      ]
     },
     "metadata": {
      "needs_background": "light"
     },
     "output_type": "display_data"
    }
   ],
   "source": [
    "plot_results(history8)"
   ]
  },
  {
   "cell_type": "markdown",
   "metadata": {},
   "source": [
    "# Part 18: Dropout regularization\n",
    "\n",
    "Dropout is a type of regularization that can improve accuracy for validation and test data. \n",
    "\n",
    "Add a Dropout layer after each Dense layer (but not after the final dense layer) in `build_DNN`, with a dropout probability of 50%. Remember to first import the Dropout layer from keras.layers\n",
    "\n",
    "See https://keras.io/api/layers/regularization_layers/dropout/ for how the Dropout layer works.\n",
    "\n",
    "---\n",
    "\n",
    "Question 18: How does the validation accuracy change when adding dropout?\n",
    "\n",
    "Question 19: How does the test accuracy change when adding dropout?\n",
    "\n",
    "In the initial model, we had higher validation accuracy when compared to the test accuracy. But using dropout model has generalised well. There is no overfitting and we get similiar validation and test accuracy."
   ]
  },
  {
   "cell_type": "markdown",
   "metadata": {},
   "source": [
    "### 2 layers, 20 nodes, class weights, dropout, SGD optimizer, no batch normalization, sigmoid activations"
   ]
  },
  {
   "cell_type": "code",
   "execution_count": 77,
   "metadata": {
    "scrolled": true
   },
   "outputs": [
    {
     "name": "stdout",
     "output_type": "stream",
     "text": [
      "Epoch 1/20\n",
      "54/54 [==============================] - 1s 23ms/step - loss: 0.7081 - accuracy: 0.5531 - val_loss: 0.6093 - val_accuracy: 0.8832\n",
      "Epoch 2/20\n",
      "54/54 [==============================] - 1s 20ms/step - loss: 0.6255 - accuracy: 0.6496 - val_loss: 0.5329 - val_accuracy: 0.8824\n",
      "Epoch 3/20\n",
      "54/54 [==============================] - 1s 22ms/step - loss: 0.5557 - accuracy: 0.7253 - val_loss: 0.4472 - val_accuracy: 0.8783\n",
      "Epoch 4/20\n",
      "54/54 [==============================] - 1s 23ms/step - loss: 0.4899 - accuracy: 0.7761 - val_loss: 0.3770 - val_accuracy: 0.8782\n",
      "Epoch 5/20\n",
      "54/54 [==============================] - 1s 19ms/step - loss: 0.4367 - accuracy: 0.8069 - val_loss: 0.3287 - val_accuracy: 0.8788\n",
      "Epoch 6/20\n",
      "54/54 [==============================] - 1s 20ms/step - loss: 0.3988 - accuracy: 0.8272 - val_loss: 0.3027 - val_accuracy: 0.8793\n",
      "Epoch 7/20\n",
      "54/54 [==============================] - 1s 18ms/step - loss: 0.3723 - accuracy: 0.8395 - val_loss: 0.2901 - val_accuracy: 0.8796\n",
      "Epoch 8/20\n",
      "54/54 [==============================] - 1s 19ms/step - loss: 0.3534 - accuracy: 0.8476 - val_loss: 0.2847 - val_accuracy: 0.8799\n",
      "Epoch 9/20\n",
      "54/54 [==============================] - 1s 18ms/step - loss: 0.3381 - accuracy: 0.8530 - val_loss: 0.2791 - val_accuracy: 0.8803\n",
      "Epoch 10/20\n",
      "54/54 [==============================] - 1s 18ms/step - loss: 0.3279 - accuracy: 0.8575 - val_loss: 0.2767 - val_accuracy: 0.8805\n",
      "Epoch 11/20\n",
      "54/54 [==============================] - 1s 20ms/step - loss: 0.3171 - accuracy: 0.8610 - val_loss: 0.2748 - val_accuracy: 0.8808\n",
      "Epoch 12/20\n",
      "54/54 [==============================] - 1s 21ms/step - loss: 0.3103 - accuracy: 0.8629 - val_loss: 0.2737 - val_accuracy: 0.8810\n",
      "Epoch 13/20\n",
      "54/54 [==============================] - 1s 20ms/step - loss: 0.3022 - accuracy: 0.8655 - val_loss: 0.2711 - val_accuracy: 0.8813\n",
      "Epoch 14/20\n",
      "54/54 [==============================] - 1s 19ms/step - loss: 0.2974 - accuracy: 0.8670 - val_loss: 0.2702 - val_accuracy: 0.8814\n",
      "Epoch 15/20\n",
      "54/54 [==============================] - 1s 21ms/step - loss: 0.2918 - accuracy: 0.8681 - val_loss: 0.2689 - val_accuracy: 0.8817\n",
      "Epoch 16/20\n",
      "54/54 [==============================] - 1s 22ms/step - loss: 0.2860 - accuracy: 0.8696 - val_loss: 0.2674 - val_accuracy: 0.8822\n",
      "Epoch 17/20\n",
      "54/54 [==============================] - 1s 21ms/step - loss: 0.2815 - accuracy: 0.8708 - val_loss: 0.2652 - val_accuracy: 0.8841\n",
      "Epoch 18/20\n",
      "54/54 [==============================] - 1s 22ms/step - loss: 0.2770 - accuracy: 0.8717 - val_loss: 0.2643 - val_accuracy: 0.8855\n",
      "Epoch 19/20\n",
      "54/54 [==============================] - 1s 21ms/step - loss: 0.2742 - accuracy: 0.8725 - val_loss: 0.2629 - val_accuracy: 0.8863\n",
      "Epoch 20/20\n",
      "54/54 [==============================] - 1s 20ms/step - loss: 0.2704 - accuracy: 0.8732 - val_loss: 0.2617 - val_accuracy: 0.8868\n"
     ]
    }
   ],
   "source": [
    "# Setup some training parameters\n",
    "from keras.layers import Dropout\n",
    "batch_size = 10000\n",
    "epochs = 20\n",
    "input_shape = (92,)\n",
    "\n",
    "# Build and train model\n",
    "model9 = build_DNN(input_shape, n_layers=2, n_nodes=20, act_fun='sigmoid', optimizer='sgd', learning_rate=0.1, \n",
    "              use_bn=False, use_dropout=True, use_custom_dropout=False)\n",
    "\n",
    "history9 = model9.fit(Xtrain, Ytrain,\n",
    "                      batch_size = batch_size,\n",
    "                      epochs = epochs,\n",
    "                      class_weight=class_weights,\n",
    "                      validation_data = (Xval, Yval))"
   ]
  },
  {
   "cell_type": "code",
   "execution_count": 78,
   "metadata": {},
   "outputs": [
    {
     "name": "stdout",
     "output_type": "stream",
     "text": [
      "3582/3582 [==============================] - 3s 723us/step - loss: 0.2629 - accuracy: 0.8866\n",
      "Test loss: 0.2629\n",
      "Test accuracy: 0.8866\n"
     ]
    }
   ],
   "source": [
    "# Evaluate model on test data\n",
    "score = model9.evaluate(Xtest, Ytest)\n",
    "\n",
    "print('Test loss: %.4f' % score[0])\n",
    "print('Test accuracy: %.4f' % score[1])"
   ]
  },
  {
   "cell_type": "code",
   "execution_count": 79,
   "metadata": {},
   "outputs": [
    {
     "data": {
      "image/png": "[encoded data removed]",
      "text/plain": [
       "<Figure size 720x288 with 1 Axes>"
      ]
     },
     "metadata": {
      "needs_background": "light"
     },
     "output_type": "display_data"
    },
    {
     "data": {
      "image/png": "[encoded data removed]",
      "text/plain": [
       "<Figure size 720x288 with 1 Axes>"
      ]
     },
     "metadata": {
      "needs_background": "light"
     },
     "output_type": "display_data"
    }
   ],
   "source": [
    "plot_results(history9)"
   ]
  },
  {
   "cell_type": "markdown",
   "metadata": {},
   "source": [
    "# Part 19: Improving performance\n",
    "\n",
    "Spend some time (30 - 90 minutes) playing with the network architecture (number of layers, number of nodes per layer, activation function) and other hyper parameters (optimizer, learning rate, batch size, number of epochs, degree of regularization). For example, try a much deeper network. How much does the training time increase for a network with 10 layers?\n",
    "\n",
    "Question 20: How high classification accuracy can you achieve for the test data? What is your best configuration?\n",
    "\n",
    "Classification accuracy : 91.63\n",
    "\n",
    "Best configuration as follows:\n",
    "layers: 4\n",
    "node: 50\n",
    "batch size: 3000\n",
    "epoch: 25\n",
    "Dropout: 0.5\n",
    "Activation function: relu\n",
    "optimizer:SGD"
   ]
  },
  {
   "cell_type": "code",
   "execution_count": 29,
   "metadata": {
    "scrolled": true
   },
   "outputs": [
    {
     "name": "stdout",
     "output_type": "stream",
     "text": [
      "Epoch 1/25\n",
      "179/179 [==============================] - 8s 45ms/step - loss: 0.3941 - accuracy: 0.8529 - val_loss: 0.2269 - val_accuracy: 0.9038\n",
      "Epoch 2/25\n",
      "179/179 [==============================] - 7s 40ms/step - loss: 0.2760 - accuracy: 0.8863 - val_loss: 0.2217 - val_accuracy: 0.9005\n",
      "Epoch 3/25\n",
      "179/179 [==============================] - 7s 39ms/step - loss: 0.2458 - accuracy: 0.8942 - val_loss: 0.2206 - val_accuracy: 0.9080\n",
      "Epoch 4/25\n",
      "179/179 [==============================] - 7s 39ms/step - loss: 0.2297 - accuracy: 0.9000 - val_loss: 0.2159 - val_accuracy: 0.9131\n",
      "Epoch 5/25\n",
      "179/179 [==============================] - 7s 38ms/step - loss: 0.2198 - accuracy: 0.9038 - val_loss: 0.2162 - val_accuracy: 0.9142\n",
      "Epoch 6/25\n",
      "179/179 [==============================] - 7s 40ms/step - loss: 0.2121 - accuracy: 0.9068 - val_loss: 0.2204 - val_accuracy: 0.9148\n",
      "Epoch 7/25\n",
      "179/179 [==============================] - 6s 35ms/step - loss: 0.2057 - accuracy: 0.9089 - val_loss: 0.2161 - val_accuracy: 0.9148\n",
      "Epoch 8/25\n",
      "179/179 [==============================] - 6s 36ms/step - loss: 0.2024 - accuracy: 0.9099 - val_loss: 0.2132 - val_accuracy: 0.9150\n",
      "Epoch 9/25\n",
      "179/179 [==============================] - 6s 34ms/step - loss: 0.1981 - accuracy: 0.9107 - val_loss: 0.2144 - val_accuracy: 0.9152\n",
      "Epoch 10/25\n",
      "179/179 [==============================] - 5s 29ms/step - loss: 0.1967 - accuracy: 0.9113 - val_loss: 0.2133 - val_accuracy: 0.9153\n",
      "Epoch 11/25\n",
      "179/179 [==============================] - 6s 31ms/step - loss: 0.1946 - accuracy: 0.9116 - val_loss: 0.2153 - val_accuracy: 0.9153\n",
      "Epoch 12/25\n",
      "179/179 [==============================] - 5s 29ms/step - loss: 0.1920 - accuracy: 0.9120 - val_loss: 0.2098 - val_accuracy: 0.9154\n",
      "Epoch 13/25\n",
      "179/179 [==============================] - 5s 29ms/step - loss: 0.1907 - accuracy: 0.9124 - val_loss: 0.2092 - val_accuracy: 0.9158\n",
      "Epoch 14/25\n",
      "179/179 [==============================] - 6s 33ms/step - loss: 0.1893 - accuracy: 0.9125 - val_loss: 0.2131 - val_accuracy: 0.9158\n",
      "Epoch 15/25\n",
      "179/179 [==============================] - 6s 32ms/step - loss: 0.1885 - accuracy: 0.9127 - val_loss: 0.2044 - val_accuracy: 0.9160\n",
      "Epoch 16/25\n",
      "179/179 [==============================] - 6s 31ms/step - loss: 0.1865 - accuracy: 0.9130 - val_loss: 0.2098 - val_accuracy: 0.9160\n",
      "Epoch 17/25\n",
      "179/179 [==============================] - 6s 33ms/step - loss: 0.1865 - accuracy: 0.9129 - val_loss: 0.2132 - val_accuracy: 0.9157\n",
      "Epoch 18/25\n",
      "179/179 [==============================] - 6s 32ms/step - loss: 0.1853 - accuracy: 0.9130 - val_loss: 0.2116 - val_accuracy: 0.9159\n",
      "Epoch 19/25\n",
      "179/179 [==============================] - 6s 32ms/step - loss: 0.1843 - accuracy: 0.9132 - val_loss: 0.2130 - val_accuracy: 0.9160\n",
      "Epoch 20/25\n",
      "179/179 [==============================] - 6s 33ms/step - loss: 0.1834 - accuracy: 0.9133 - val_loss: 0.2077 - val_accuracy: 0.9162\n",
      "Epoch 21/25\n",
      "179/179 [==============================] - 6s 32ms/step - loss: 0.1823 - accuracy: 0.9135 - val_loss: 0.2076 - val_accuracy: 0.9161\n",
      "Epoch 22/25\n",
      "179/179 [==============================] - 6s 32ms/step - loss: 0.1820 - accuracy: 0.9135 - val_loss: 0.2094 - val_accuracy: 0.9163\n",
      "Epoch 23/25\n",
      "179/179 [==============================] - 6s 32ms/step - loss: 0.1823 - accuracy: 0.9133 - val_loss: 0.2082 - val_accuracy: 0.9161\n",
      "Epoch 24/25\n",
      "179/179 [==============================] - 6s 33ms/step - loss: 0.1808 - accuracy: 0.9136 - val_loss: 0.2056 - val_accuracy: 0.9162\n",
      "Epoch 25/25\n",
      "179/179 [==============================] - 6s 32ms/step - loss: 0.1807 - accuracy: 0.9135 - val_loss: 0.2056 - val_accuracy: 0.9164\n"
     ]
    }
   ],
   "source": [
    "# Find your best configuration for the DNN\n",
    "from keras.layers.normalization import BatchNormalization\n",
    "from keras.layers import Dropout\n",
    "\n",
    "batch_size = 3000\n",
    "epochs = 25\n",
    "input_shape = (92,)\n",
    "# Build and train DNN\n",
    "model10 = build_DNN(input_shape, n_layers=4, n_nodes=50, act_fun='relu', optimizer='sgd', learning_rate=0.1, \n",
    "              use_bn=True, use_dropout=True, use_custom_dropout=False)\n",
    "\n",
    "history10 = model10.fit(Xtrain, Ytrain,\n",
    "                      batch_size = batch_size,\n",
    "                      epochs = epochs,\n",
    "                      class_weight=class_weights,\n",
    "                      validation_data = (Xval, Yval))"
   ]
  },
  {
   "cell_type": "code",
   "execution_count": 30,
   "metadata": {},
   "outputs": [
    {
     "name": "stdout",
     "output_type": "stream",
     "text": [
      "3582/3582 [==============================] - 7s 2ms/step - loss: 0.2057 - accuracy: 0.9163\n",
      "Test loss: 0.2057\n",
      "Test accuracy: 0.9163\n"
     ]
    }
   ],
   "source": [
    "# Evaluate DNN on test data\n",
    "score = model10.evaluate(Xtest, Ytest)\n",
    "\n",
    "print('Test loss: %.4f' % score[0])\n",
    "print('Test accuracy: %.4f' % score[1])"
   ]
  },
  {
   "cell_type": "code",
   "execution_count": 31,
   "metadata": {},
   "outputs": [
    {
     "data": {
      "image/png": "[encoded data removed]",
      "text/plain": [
       "<Figure size 720x288 with 1 Axes>"
      ]
     },
     "metadata": {
      "needs_background": "light"
     },
     "output_type": "display_data"
    },
    {
     "data": {
      "image/png": "[encoded data removed]",
      "text/plain": [
       "<Figure size 720x288 with 1 Axes>"
      ]
     },
     "metadata": {
      "needs_background": "light"
     },
     "output_type": "display_data"
    }
   ],
   "source": [
    "plot_results(history10)"
   ]
  },
  {
   "cell_type": "markdown",
   "metadata": {},
   "source": [
    "# Part 20: Dropout uncertainty\n",
    "\n",
    "Dropout can also be used during testing, to obtain an estimate of the model uncertainty. Since dropout will randomly remove connections, the network will produce different results every time the same (test) data is put into the network. This technique is called Monte Carlo dropout. For more information, see this paper http://proceedings.mlr.press/v48/gal16.pdf\n",
    "\n",
    "To achieve this, we need to redefine the Keras Dropout call by running the cell below, and use 'myDropout' in each call to Dropout, in the cell that defines the DNN. The `build_DNN` function takes two boolean arguments, use_dropout and use_custom_dropout, add a standard Dropout layer if use_dropout is true, add a myDropout layer if use_custom_dropout is true.\n",
    "\n",
    "Run the same test data through the trained network 100 times, with dropout turned on. \n",
    "\n",
    "Question 21: What is the mean and the standard deviation of the test accuracy?\n",
    "\n",
    "Mean: 0.9032070046663284\n",
    "std: 0.00047307301429307173"
   ]
  },
  {
   "cell_type": "code",
   "execution_count": 32,
   "metadata": {},
   "outputs": [],
   "source": [
    "import keras.backend as K\n",
    "import keras\n",
    "\n",
    "class myDropout(keras.layers.Dropout):\n",
    "    \"\"\"Applies Dropout to the input.\n",
    "    Dropout consists in randomly setting\n",
    "    a fraction `rate` of input units to 0 at each update during training time,\n",
    "    which helps prevent overfitting.\n",
    "    # Arguments\n",
    "        rate: float between 0 and 1. Fraction of the input units to drop.\n",
    "        noise_shape: 1D integer tensor representing the shape of the\n",
    "            binary dropout mask that will be multiplied with the input.\n",
    "            For instance, if your inputs have shape\n",
    "            `(batch_size, timesteps, features)` and\n",
    "            you want the dropout mask to be the same for all timesteps,\n",
    "            you can use `noise_shape=(batch_size, 1, features)`.\n",
    "        seed: A Python integer to use as random seed.\n",
    "    # References\n",
    "        - [Dropout: A Simple Way to Prevent Neural Networks from Overfitting](\n",
    "           http://www.jmlr.org/papers/volume15/srivastava14a/srivastava14a.pdf)\n",
    "    \"\"\"\n",
    "    def __init__(self, rate, training=True, noise_shape=None, seed=None, **kwargs):\n",
    "        super(myDropout, self).__init__(rate, noise_shape=None, seed=None,**kwargs)\n",
    "        self.training = training\n",
    "\n",
    "        \n",
    "    def call(self, inputs, training=None):\n",
    "        if 0. < self.rate < 1.:\n",
    "            noise_shape = self._get_noise_shape(inputs)\n",
    "\n",
    "            def dropped_inputs():\n",
    "                return K.dropout(inputs, self.rate, noise_shape,\n",
    "                                 seed=self.seed)\n",
    "            if not training: \n",
    "                return K.in_train_phase(dropped_inputs, inputs, training=self.training)\n",
    "            return K.in_train_phase(dropped_inputs, inputs, training=training)\n",
    "        return inputs"
   ]
  },
  {
   "cell_type": "markdown",
   "metadata": {},
   "source": [
    "### Your best config, custom dropout"
   ]
  },
  {
   "cell_type": "code",
   "execution_count": 35,
   "metadata": {
    "scrolled": true
   },
   "outputs": [
    {
     "name": "stdout",
     "output_type": "stream",
     "text": [
      "Epoch 1/25\n",
      "179/179 [==============================] - 8s 46ms/step - loss: 0.3871 - accuracy: 0.8532 - val_loss: 0.3154 - val_accuracy: 0.8903\n",
      "Epoch 2/25\n",
      "179/179 [==============================] - 8s 43ms/step - loss: 0.2752 - accuracy: 0.8865 - val_loss: 0.2930 - val_accuracy: 0.8942\n",
      "Epoch 3/25\n",
      "179/179 [==============================] - 8s 44ms/step - loss: 0.2475 - accuracy: 0.8936 - val_loss: 0.2770 - val_accuracy: 0.8998\n",
      "Epoch 4/25\n",
      "179/179 [==============================] - 7s 37ms/step - loss: 0.2317 - accuracy: 0.8988 - val_loss: 0.2617 - val_accuracy: 0.9034\n",
      "Epoch 5/25\n",
      "179/179 [==============================] - 7s 36ms/step - loss: 0.2214 - accuracy: 0.9025 - val_loss: 0.2517 - val_accuracy: 0.9058\n",
      "Epoch 6/25\n",
      "179/179 [==============================] - 6s 31ms/step - loss: 0.2136 - accuracy: 0.9049 - val_loss: 0.2460 - val_accuracy: 0.9076\n",
      "Epoch 7/25\n",
      "179/179 [==============================] - 6s 32ms/step - loss: 0.2080 - accuracy: 0.9069 - val_loss: 0.2381 - val_accuracy: 0.9097\n",
      "Epoch 8/25\n",
      "179/179 [==============================] - 6s 34ms/step - loss: 0.2036 - accuracy: 0.9080 - val_loss: 0.2353 - val_accuracy: 0.9104\n",
      "Epoch 9/25\n",
      "179/179 [==============================] - 6s 31ms/step - loss: 0.1999 - accuracy: 0.9092 - val_loss: 0.2308 - val_accuracy: 0.9114\n",
      "Epoch 10/25\n",
      "179/179 [==============================] - 6s 36ms/step - loss: 0.1978 - accuracy: 0.9098 - val_loss: 0.2305 - val_accuracy: 0.9122\n",
      "Epoch 11/25\n",
      "179/179 [==============================] - 6s 32ms/step - loss: 0.1945 - accuracy: 0.9108 - val_loss: 0.2296 - val_accuracy: 0.9125\n",
      "Epoch 12/25\n",
      "179/179 [==============================] - 6s 34ms/step - loss: 0.1933 - accuracy: 0.9111 - val_loss: 0.2231 - val_accuracy: 0.9129\n",
      "Epoch 13/25\n",
      "179/179 [==============================] - 6s 36ms/step - loss: 0.1917 - accuracy: 0.9114 - val_loss: 0.2304 - val_accuracy: 0.9132\n",
      "Epoch 14/25\n",
      "179/179 [==============================] - 6s 32ms/step - loss: 0.1894 - accuracy: 0.9119 - val_loss: 0.2247 - val_accuracy: 0.9139\n",
      "Epoch 15/25\n",
      "179/179 [==============================] - 6s 33ms/step - loss: 0.1890 - accuracy: 0.9122 - val_loss: 0.2309 - val_accuracy: 0.9140\n",
      "Epoch 16/25\n",
      "179/179 [==============================] - 8s 43ms/step - loss: 0.1877 - accuracy: 0.9124 - val_loss: 0.2242 - val_accuracy: 0.9139\n",
      "Epoch 17/25\n",
      "179/179 [==============================] - 7s 37ms/step - loss: 0.1867 - accuracy: 0.9127 - val_loss: 0.2213 - val_accuracy: 0.9143\n",
      "Epoch 18/25\n",
      "179/179 [==============================] - 7s 37ms/step - loss: 0.1858 - accuracy: 0.9130 - val_loss: 0.2231 - val_accuracy: 0.9145\n",
      "Epoch 19/25\n",
      "179/179 [==============================] - 6s 34ms/step - loss: 0.1855 - accuracy: 0.9129 - val_loss: 0.2222 - val_accuracy: 0.9143\n",
      "Epoch 20/25\n",
      "179/179 [==============================] - 7s 37ms/step - loss: 0.1842 - accuracy: 0.9131 - val_loss: 0.2171 - val_accuracy: 0.9150\n",
      "Epoch 21/25\n",
      "179/179 [==============================] - 6s 36ms/step - loss: 0.1841 - accuracy: 0.9132 - val_loss: 0.2271 - val_accuracy: 0.9147\n",
      "Epoch 22/25\n",
      "179/179 [==============================] - 7s 37ms/step - loss: 0.1830 - accuracy: 0.9133 - val_loss: 0.2242 - val_accuracy: 0.9146\n",
      "Epoch 23/25\n",
      "179/179 [==============================] - 6s 35ms/step - loss: 0.1822 - accuracy: 0.9133 - val_loss: 0.2199 - val_accuracy: 0.9151\n",
      "Epoch 24/25\n",
      "179/179 [==============================] - 6s 35ms/step - loss: 0.1821 - accuracy: 0.9136 - val_loss: 0.2183 - val_accuracy: 0.9150\n",
      "Epoch 25/25\n",
      "179/179 [==============================] - 7s 37ms/step - loss: 0.1813 - accuracy: 0.9137 - val_loss: 0.2208 - val_accuracy: 0.9151\n"
     ]
    }
   ],
   "source": [
    "# Your best training parameters\n",
    "batch_size = 3000\n",
    "epochs = 25\n",
    "input_shape = (92,)\n",
    "\n",
    "# Build and train model\n",
    "model11 = build_DNN(input_shape, n_layers=4, n_nodes=50, act_fun='relu', optimizer='sgd', learning_rate=0.1, \n",
    "              use_bn=True, use_dropout=False, use_custom_dropout=True)\n",
    "\n",
    "history11 = model11.fit(Xtrain, Ytrain,\n",
    "                      batch_size = batch_size,\n",
    "                      epochs = epochs,\n",
    "                      class_weight=class_weights,\n",
    "                      validation_data = (Xval, Yval))"
   ]
  },
  {
   "cell_type": "code",
   "execution_count": 39,
   "metadata": {},
   "outputs": [
    {
     "name": "stdout",
     "output_type": "stream",
     "text": [
      "3582/3582 [==============================] - 10s 3ms/step - loss: 0.2206 - accuracy: 0.9147\n",
      "Test accuracy: 0.9147\n"
     ]
    }
   ],
   "source": [
    "# Run this cell a few times to evalute the model on test data, \n",
    "# if you get slightly different test accuracy every time, Dropout during testing is working\n",
    "\n",
    "# Evaluate model on test data\n",
    "score = model11.evaluate(Xtest, Ytest)\n",
    "                       \n",
    "print('Test accuracy: %.4f' % score[1])"
   ]
  },
  {
   "cell_type": "code",
   "execution_count": 40,
   "metadata": {},
   "outputs": [
    {
     "name": "stdout",
     "output_type": "stream",
     "text": [
      "3582/3582 [==============================] - 11s 3ms/step - loss: 0.2204 - accuracy: 0.9147\n",
      "3582/3582 [==============================] - 11s 3ms/step - loss: 0.2217 - accuracy: 0.9147\n",
      "3582/3582 [==============================] - 10s 3ms/step - loss: 0.2213 - accuracy: 0.9145\n",
      "3582/3582 [==============================] - 10s 3ms/step - loss: 0.2206 - accuracy: 0.9145\n",
      "3582/3582 [==============================] - 11s 3ms/step - loss: 0.2217 - accuracy: 0.9145\n",
      "3582/3582 [==============================] - 10s 3ms/step - loss: 0.2211 - accuracy: 0.9148\n",
      "3582/3582 [==============================] - 9s 3ms/step - loss: 0.2213 - accuracy: 0.9148\n",
      "3582/3582 [==============================] - 11s 3ms/step - loss: 0.2215 - accuracy: 0.9143\n",
      "3582/3582 [==============================] - 9s 3ms/step - loss: 0.2207 - accuracy: 0.9147\n",
      "3582/3582 [==============================] - 10s 3ms/step - loss: 0.2215 - accuracy: 0.9147\n",
      "3582/3582 [==============================] - 11s 3ms/step - loss: 0.2212 - accuracy: 0.9148\n",
      "3582/3582 [==============================] - 9s 3ms/step - loss: 0.2221 - accuracy: 0.9146\n",
      "3582/3582 [==============================] - 10s 3ms/step - loss: 0.2215 - accuracy: 0.9146\n",
      "3582/3582 [==============================] - 11s 3ms/step - loss: 0.2211 - accuracy: 0.9143\n",
      "3582/3582 [==============================] - 10s 3ms/step - loss: 0.2214 - accuracy: 0.9148\n",
      "3582/3582 [==============================] - 11s 3ms/step - loss: 0.2205 - accuracy: 0.9148\n",
      "3582/3582 [==============================] - 10s 3ms/step - loss: 0.2208 - accuracy: 0.9146\n",
      "3582/3582 [==============================] - 9s 3ms/step - loss: 0.2200 - accuracy: 0.9149\n",
      "3582/3582 [==============================] - 10s 3ms/step - loss: 0.2212 - accuracy: 0.9147\n",
      "3582/3582 [==============================] - 9s 3ms/step - loss: 0.2210 - accuracy: 0.9148\n",
      "3582/3582 [==============================] - 10s 3ms/step - loss: 0.2212 - accuracy: 0.9146\n",
      "3582/3582 [==============================] - 10s 3ms/step - loss: 0.2209 - accuracy: 0.9144\n",
      "3582/3582 [==============================] - 10s 3ms/step - loss: 0.2216 - accuracy: 0.9146\n",
      "3582/3582 [==============================] - 10s 3ms/step - loss: 0.2215 - accuracy: 0.9145\n",
      "3582/3582 [==============================] - 9s 2ms/step - loss: 0.2202 - accuracy: 0.9148\n",
      "3582/3582 [==============================] - 9s 3ms/step - loss: 0.2213 - accuracy: 0.9146\n",
      "3582/3582 [==============================] - 9s 2ms/step - loss: 0.2215 - accuracy: 0.9144\n",
      "3582/3582 [==============================] - 10s 3ms/step - loss: 0.2219 - accuracy: 0.9144\n",
      "3582/3582 [==============================] - 9s 3ms/step - loss: 0.2218 - accuracy: 0.9145\n",
      "3582/3582 [==============================] - 8s 2ms/step - loss: 0.2202 - accuracy: 0.9147\n",
      "3582/3582 [==============================] - 10s 3ms/step - loss: 0.2209 - accuracy: 0.9146\n",
      "3582/3582 [==============================] - 9s 2ms/step - loss: 0.2209 - accuracy: 0.9145\n",
      "3582/3582 [==============================] - 9s 2ms/step - loss: 0.2209 - accuracy: 0.9144\n",
      "3582/3582 [==============================] - 11s 3ms/step - loss: 0.2218 - accuracy: 0.9145\n",
      "3582/3582 [==============================] - 9s 3ms/step - loss: 0.2215 - accuracy: 0.9146\n",
      "3582/3582 [==============================] - 11s 3ms/step - loss: 0.2208 - accuracy: 0.9145\n",
      "3582/3582 [==============================] - 10s 3ms/step - loss: 0.2213 - accuracy: 0.9145\n",
      "3582/3582 [==============================] - 9s 3ms/step - loss: 0.2213 - accuracy: 0.9146\n",
      "3582/3582 [==============================] - 9s 3ms/step - loss: 0.2219 - accuracy: 0.9145\n",
      "3582/3582 [==============================] - 12s 3ms/step - loss: 0.2207 - accuracy: 0.9149\n",
      "3582/3582 [==============================] - 9s 3ms/step - loss: 0.2209 - accuracy: 0.9147\n",
      "3582/3582 [==============================] - 11s 3ms/step - loss: 0.2213 - accuracy: 0.9147\n",
      "3582/3582 [==============================] - 8s 2ms/step - loss: 0.2219 - accuracy: 0.9146\n",
      "3582/3582 [==============================] - 11s 3ms/step - loss: 0.2221 - accuracy: 0.9146 0s - loss: 0.2221 - accuracy: 0.91\n",
      "3582/3582 [==============================] - 10s 3ms/step - loss: 0.2212 - accuracy: 0.9145\n",
      "3582/3582 [==============================] - 10s 3ms/step - loss: 0.2216 - accuracy: 0.9147\n",
      "3582/3582 [==============================] - 10s 3ms/step - loss: 0.2209 - accuracy: 0.9149\n",
      "3582/3582 [==============================] - 10s 3ms/step - loss: 0.2209 - accuracy: 0.9147\n",
      "3582/3582 [==============================] - 10s 3ms/step - loss: 0.2211 - accuracy: 0.9147\n",
      "3582/3582 [==============================] - 10s 3ms/step - loss: 0.2210 - accuracy: 0.9146\n",
      "3582/3582 [==============================] - 10s 3ms/step - loss: 0.2217 - accuracy: 0.9145\n",
      "3582/3582 [==============================] - 9s 3ms/step - loss: 0.2207 - accuracy: 0.9148\n",
      "3582/3582 [==============================] - 10s 3ms/step - loss: 0.2222 - accuracy: 0.9147\n",
      "3582/3582 [==============================] - 10s 3ms/step - loss: 0.2217 - accuracy: 0.9144\n",
      "3582/3582 [==============================] - 10s 3ms/step - loss: 0.2212 - accuracy: 0.9146\n",
      "3582/3582 [==============================] - 10s 3ms/step - loss: 0.2206 - accuracy: 0.9145\n",
      "3582/3582 [==============================] - 9s 2ms/step - loss: 0.2215 - accuracy: 0.9146\n",
      "3582/3582 [==============================] - 10s 3ms/step - loss: 0.2206 - accuracy: 0.9147\n",
      "3582/3582 [==============================] - 11s 3ms/step - loss: 0.2207 - accuracy: 0.9147\n",
      "3582/3582 [==============================] - 9s 3ms/step - loss: 0.2201 - accuracy: 0.9148\n",
      "3582/3582 [==============================] - 11s 3ms/step - loss: 0.2211 - accuracy: 0.9145\n",
      "3582/3582 [==============================] - 11s 3ms/step - loss: 0.2212 - accuracy: 0.9146\n",
      "3582/3582 [==============================] - 11s 3ms/step - loss: 0.2217 - accuracy: 0.9146\n",
      "3582/3582 [==============================] - 11s 3ms/step - loss: 0.2219 - accuracy: 0.9147\n",
      "3582/3582 [==============================] - 10s 3ms/step - loss: 0.2210 - accuracy: 0.9148\n",
      "3582/3582 [==============================] - 11s 3ms/step - loss: 0.2215 - accuracy: 0.9145\n",
      "3582/3582 [==============================] - 13s 4ms/step - loss: 0.2200 - accuracy: 0.9148\n",
      "3582/3582 [==============================] - 10s 3ms/step - loss: 0.2220 - accuracy: 0.9144\n",
      "3582/3582 [==============================] - 8s 2ms/step - loss: 0.2215 - accuracy: 0.9148\n",
      "3582/3582 [==============================] - 9s 3ms/step - loss: 0.2210 - accuracy: 0.9147\n",
      "3582/3582 [==============================] - 9s 2ms/step - loss: 0.2203 - accuracy: 0.9148\n",
      "3582/3582 [==============================] - 10s 3ms/step - loss: 0.2211 - accuracy: 0.9146\n",
      "3582/3582 [==============================] - 11s 3ms/step - loss: 0.2214 - accuracy: 0.9145\n",
      "3582/3582 [==============================] - 9s 3ms/step - loss: 0.2213 - accuracy: 0.9145\n",
      "3582/3582 [==============================] - 10s 3ms/step - loss: 0.2209 - accuracy: 0.9148\n",
      "3582/3582 [==============================] - 10s 3ms/step - loss: 0.2214 - accuracy: 0.9148\n",
      "3582/3582 [==============================] - 10s 3ms/step - loss: 0.2200 - accuracy: 0.9149\n",
      "3582/3582 [==============================] - 11s 3ms/step - loss: 0.2213 - accuracy: 0.9143\n",
      "3582/3582 [==============================] - 10s 3ms/step - loss: 0.2216 - accuracy: 0.9146\n",
      "3582/3582 [==============================] - 10s 3ms/step - loss: 0.2218 - accuracy: 0.9146\n",
      "3582/3582 [==============================] - 10s 3ms/step - loss: 0.2210 - accuracy: 0.9147\n",
      "3582/3582 [==============================] - 9s 3ms/step - loss: 0.2215 - accuracy: 0.9146\n",
      "3582/3582 [==============================] - 10s 3ms/step - loss: 0.2215 - accuracy: 0.9147\n",
      "3582/3582 [==============================] - 12s 3ms/step - loss: 0.2213 - accuracy: 0.9147\n",
      "3582/3582 [==============================] - 10s 3ms/step - loss: 0.2210 - accuracy: 0.9146\n",
      "3582/3582 [==============================] - 9s 2ms/step - loss: 0.2221 - accuracy: 0.9148\n",
      "3582/3582 [==============================] - 9s 2ms/step - loss: 0.2215 - accuracy: 0.9146\n",
      "3582/3582 [==============================] - 10s 3ms/step - loss: 0.2200 - accuracy: 0.9149\n",
      "3582/3582 [==============================] - 13s 4ms/step - loss: 0.2205 - accuracy: 0.9148\n"
     ]
    },
    {
     "name": "stdout",
     "output_type": "stream",
     "text": [
      "3582/3582 [==============================] - 8s 2ms/step - loss: 0.2212 - accuracy: 0.9145\n",
      "3582/3582 [==============================] - 7s 2ms/step - loss: 0.2204 - accuracy: 0.9148\n",
      "3582/3582 [==============================] - 7s 2ms/step - loss: 0.2215 - accuracy: 0.9146\n",
      "3582/3582 [==============================] - 9s 2ms/step - loss: 0.2219 - accuracy: 0.9144\n",
      "3582/3582 [==============================] - 8s 2ms/step - loss: 0.2225 - accuracy: 0.9145\n",
      "3582/3582 [==============================] - 7s 2ms/step - loss: 0.2211 - accuracy: 0.9147\n",
      "3582/3582 [==============================] - 7s 2ms/step - loss: 0.2211 - accuracy: 0.9144\n",
      "3582/3582 [==============================] - 10s 3ms/step - loss: 0.2208 - accuracy: 0.9148\n",
      "3582/3582 [==============================] - 8s 2ms/step - loss: 0.2208 - accuracy: 0.9147\n",
      "3582/3582 [==============================] - 11s 3ms/step - loss: 0.2206 - accuracy: 0.9147\n",
      "3582/3582 [==============================] - 15s 4ms/step - loss: 0.2213 - accuracy: 0.9144\n",
      "Mean: 0.9146\n",
      "Standard deviation 0.0001\n"
     ]
    }
   ],
   "source": [
    "# Run the testing 100 times, and save the accuracies in an array\n",
    "custom_drop = [model11.evaluate(x = Xtest, y = Ytest)[1] for i in range(100)]\n",
    "    \n",
    "# Calculate and print mean and std of accuracies\n",
    "print('Mean: %.4f' % np.mean(custom_drop))\n",
    "\n",
    "\n",
    "print('Standard deviation %.4f' % np.std(custom_drop))\n",
    "\n"
   ]
  },
  {
   "cell_type": "markdown",
   "metadata": {},
   "source": [
    "# Part 21: Cross validation uncertainty\n",
    "\n",
    "Cross validation (CV) is often used to evaluate a model, by training and testing using different subsets of the data it is possible to get the uncertainty as the standard deviation over folds. We here use a help function from scikit-learn to setup the CV, see https://scikit-learn.org/stable/modules/generated/sklearn.model_selection.StratifiedKFold.html . Use 10 folds with shuffling, random state 1234. \n",
    "\n",
    "Note: We here assume that you have found the best hyper parameters, so here the data are only split into training and testing, no validation.\n",
    "\n",
    "---\n",
    "\n",
    "Question 22: What is the mean and the standard deviation of the test accuracy?\n",
    "\n",
    "Mean: 0.9146\n",
    "Standard deviation: 0.0001\n",
    "\n",
    "Question 23: What is the main advantage of dropout compared to CV for estimating test uncertainty? The difference may not be so large in this notebook, but imagine that you have a network that takes 24 hours to train.\n",
    "\n",
    "Cross validation is computationaly heavy compared to dropout."
   ]
  },
  {
   "cell_type": "code",
   "execution_count": 41,
   "metadata": {},
   "outputs": [
    {
     "name": "stdout",
     "output_type": "stream",
     "text": [
      "Epoch 1/25\n",
      "230/230 [==============================] - 7s 31ms/step - loss: 0.2125 - accuracy: 0.9052\n",
      "Epoch 2/25\n",
      "230/230 [==============================] - 7s 29ms/step - loss: 0.1668 - accuracy: 0.9159\n",
      "Epoch 3/25\n",
      "230/230 [==============================] - 7s 30ms/step - loss: 0.1594 - accuracy: 0.9172\n",
      "Epoch 4/25\n",
      "230/230 [==============================] - 7s 30ms/step - loss: 0.1533 - accuracy: 0.9194\n",
      "Epoch 5/25\n",
      "230/230 [==============================] - 6s 26ms/step - loss: 0.1482 - accuracy: 0.9232\n",
      "Epoch 6/25\n",
      "230/230 [==============================] - 6s 27ms/step - loss: 0.1430 - accuracy: 0.9270\n",
      "Epoch 7/25\n",
      "230/230 [==============================] - 6s 27ms/step - loss: 0.1394 - accuracy: 0.9289\n",
      "Epoch 8/25\n",
      "230/230 [==============================] - 6s 25ms/step - loss: 0.1373 - accuracy: 0.9298\n",
      "Epoch 9/25\n",
      "230/230 [==============================] - 6s 24ms/step - loss: 0.1344 - accuracy: 0.9311\n",
      "Epoch 10/25\n",
      "230/230 [==============================] - 5s 21ms/step - loss: 0.1327 - accuracy: 0.9318\n",
      "Epoch 11/25\n",
      "230/230 [==============================] - 5s 23ms/step - loss: 0.1317 - accuracy: 0.9322\n",
      "Epoch 12/25\n",
      "230/230 [==============================] - 6s 28ms/step - loss: 0.1303 - accuracy: 0.9328\n",
      "Epoch 13/25\n",
      "230/230 [==============================] - 5s 21ms/step - loss: 0.1294 - accuracy: 0.9332\n",
      "Epoch 14/25\n",
      "230/230 [==============================] - 5s 23ms/step - loss: 0.1275 - accuracy: 0.9337\n",
      "Epoch 15/25\n",
      "230/230 [==============================] - 5s 22ms/step - loss: 0.1277 - accuracy: 0.9335\n",
      "Epoch 16/25\n",
      "230/230 [==============================] - 5s 21ms/step - loss: 0.1262 - accuracy: 0.9344\n",
      "Epoch 17/25\n",
      "230/230 [==============================] - 5s 23ms/step - loss: 0.1259 - accuracy: 0.9345\n",
      "Epoch 18/25\n",
      "230/230 [==============================] - 5s 23ms/step - loss: 0.1248 - accuracy: 0.9350\n",
      "Epoch 19/25\n",
      "230/230 [==============================] - 5s 23ms/step - loss: 0.1245 - accuracy: 0.9350\n",
      "Epoch 20/25\n",
      "230/230 [==============================] - 6s 24ms/step - loss: 0.1239 - accuracy: 0.9352\n",
      "Epoch 21/25\n",
      "230/230 [==============================] - 5s 22ms/step - loss: 0.1239 - accuracy: 0.9352\n",
      "Epoch 22/25\n",
      "230/230 [==============================] - 5s 21ms/step - loss: 0.1237 - accuracy: 0.9353 0s - loss: 0.1237 - ac\n",
      "Epoch 23/25\n",
      "230/230 [==============================] - 5s 23ms/step - loss: 0.1227 - accuracy: 0.9356\n",
      "Epoch 24/25\n",
      "230/230 [==============================] - 5s 23ms/step - loss: 0.1220 - accuracy: 0.9357\n",
      "Epoch 25/25\n",
      "230/230 [==============================] - 5s 23ms/step - loss: 0.1219 - accuracy: 0.9359\n",
      "2388/2388 [==============================] - 4s 2ms/step - loss: 0.1512 - accuracy: 0.9355\n",
      "Mean: 0.9355\n",
      "Standard deviation 0.0000\n",
      "Epoch 1/25\n",
      "230/230 [==============================] - 5s 22ms/step - loss: 0.2104 - accuracy: 0.9049\n",
      "Epoch 2/25\n",
      "230/230 [==============================] - 6s 26ms/step - loss: 0.1683 - accuracy: 0.9163 0s - loss: 0.1683 - accuracy: 0.\n",
      "Epoch 3/25\n",
      "230/230 [==============================] - 6s 25ms/step - loss: 0.1613 - accuracy: 0.9175\n",
      "Epoch 4/25\n",
      "230/230 [==============================] - 5s 22ms/step - loss: 0.1558 - accuracy: 0.9188\n",
      "Epoch 5/25\n",
      "230/230 [==============================] - 6s 25ms/step - loss: 0.1520 - accuracy: 0.9203\n",
      "Epoch 6/25\n",
      "230/230 [==============================] - 6s 25ms/step - loss: 0.1482 - accuracy: 0.9227\n",
      "Epoch 7/25\n",
      "230/230 [==============================] - 5s 23ms/step - loss: 0.1451 - accuracy: 0.9251\n",
      "Epoch 8/25\n",
      "230/230 [==============================] - 5s 24ms/step - loss: 0.1413 - accuracy: 0.9275\n",
      "Epoch 9/25\n",
      "230/230 [==============================] - 6s 25ms/step - loss: 0.1382 - accuracy: 0.9294\n",
      "Epoch 10/25\n",
      "230/230 [==============================] - 6s 25ms/step - loss: 0.1355 - accuracy: 0.9308\n",
      "Epoch 11/25\n",
      "230/230 [==============================] - 5s 22ms/step - loss: 0.1364 - accuracy: 0.9306\n",
      "Epoch 12/25\n",
      "230/230 [==============================] - 6s 24ms/step - loss: 0.1318 - accuracy: 0.9324\n",
      "Epoch 13/25\n",
      "230/230 [==============================] - 6s 24ms/step - loss: 0.1304 - accuracy: 0.9333\n",
      "Epoch 14/25\n",
      "230/230 [==============================] - 5s 20ms/step - loss: 0.1298 - accuracy: 0.9335\n",
      "Epoch 15/25\n",
      "230/230 [==============================] - 6s 27ms/step - loss: 0.1288 - accuracy: 0.9338\n",
      "Epoch 16/25\n",
      "230/230 [==============================] - 8s 35ms/step - loss: 0.1273 - accuracy: 0.9344\n",
      "Epoch 17/25\n",
      "230/230 [==============================] - 9s 37ms/step - loss: 0.1272 - accuracy: 0.9345\n",
      "Epoch 18/25\n",
      "230/230 [==============================] - 8s 36ms/step - loss: 0.1260 - accuracy: 0.9350\n",
      "Epoch 19/25\n",
      "230/230 [==============================] - 9s 38ms/step - loss: 0.1256 - accuracy: 0.9351\n",
      "Epoch 20/25\n",
      "230/230 [==============================] - 9s 38ms/step - loss: 0.1246 - accuracy: 0.9354\n",
      "Epoch 21/25\n",
      "230/230 [==============================] - 7s 32ms/step - loss: 0.1246 - accuracy: 0.9355\n",
      "Epoch 22/25\n",
      "230/230 [==============================] - 6s 28ms/step - loss: 0.1244 - accuracy: 0.9355\n",
      "Epoch 23/25\n",
      "230/230 [==============================] - 5s 22ms/step - loss: 0.1242 - accuracy: 0.9354\n",
      "Epoch 24/25\n",
      "230/230 [==============================] - 6s 26ms/step - loss: 0.1233 - accuracy: 0.9359\n",
      "Epoch 25/25\n",
      "230/230 [==============================] - 7s 29ms/step - loss: 0.1223 - accuracy: 0.9363\n",
      "2388/2388 [==============================] - 5s 2ms/step - loss: 0.1604 - accuracy: 0.9349\n",
      "Mean: 0.9352\n",
      "Standard deviation 0.0003\n",
      "Epoch 1/25\n",
      "230/230 [==============================] - 8s 34ms/step - loss: 0.2102 - accuracy: 0.9059\n",
      "Epoch 2/25\n",
      "230/230 [==============================] - 6s 26ms/step - loss: 0.1676 - accuracy: 0.9160\n",
      "Epoch 3/25\n",
      "230/230 [==============================] - 7s 30ms/step - loss: 0.1603 - accuracy: 0.9177\n",
      "Epoch 4/25\n",
      "230/230 [==============================] - 6s 27ms/step - loss: 0.1550 - accuracy: 0.9196\n",
      "Epoch 5/25\n",
      "230/230 [==============================] - 6s 27ms/step - loss: 0.1515 - accuracy: 0.9216 \n",
      "Epoch 6/25\n",
      "230/230 [==============================] - 6s 25ms/step - loss: 0.1479 - accuracy: 0.9237\n",
      "Epoch 7/25\n",
      "230/230 [==============================] - 6s 24ms/step - loss: 0.1440 - accuracy: 0.9260\n",
      "Epoch 8/25\n",
      "230/230 [==============================] - 6s 28ms/step - loss: 0.1412 - accuracy: 0.9276\n",
      "Epoch 9/25\n",
      "230/230 [==============================] - 6s 26ms/step - loss: 0.1387 - accuracy: 0.9291\n",
      "Epoch 10/25\n",
      "230/230 [==============================] - 6s 27ms/step - loss: 0.1361 - accuracy: 0.9301\n",
      "Epoch 11/25\n",
      "230/230 [==============================] - 7s 28ms/step - loss: 0.1337 - accuracy: 0.9313\n",
      "Epoch 12/25\n",
      "230/230 [==============================] - 6s 27ms/step - loss: 0.1329 - accuracy: 0.9315\n",
      "Epoch 13/25\n",
      "230/230 [==============================] - 7s 30ms/step - loss: 0.1320 - accuracy: 0.9319\n",
      "Epoch 14/25\n",
      "230/230 [==============================] - 7s 31ms/step - loss: 0.1302 - accuracy: 0.9324\n",
      "Epoch 15/25\n",
      "230/230 [==============================] - 7s 29ms/step - loss: 0.1295 - accuracy: 0.9330\n",
      "Epoch 16/25\n",
      "230/230 [==============================] - 10s 41ms/step - loss: 0.1287 - accuracy: 0.9332\n",
      "Epoch 17/25\n",
      "230/230 [==============================] - 6s 27ms/step - loss: 0.1278 - accuracy: 0.9334\n",
      "Epoch 18/25\n",
      "230/230 [==============================] - 8s 34ms/step - loss: 0.1268 - accuracy: 0.9339\n",
      "Epoch 19/25\n",
      "230/230 [==============================] - 6s 26ms/step - loss: 0.1261 - accuracy: 0.9341\n",
      "Epoch 20/25\n",
      "230/230 [==============================] - 7s 30ms/step - loss: 0.1257 - accuracy: 0.9343\n",
      "Epoch 21/25\n",
      "230/230 [==============================] - 7s 31ms/step - loss: 0.1253 - accuracy: 0.9342\n",
      "Epoch 22/25\n",
      "230/230 [==============================] - 9s 38ms/step - loss: 0.1236 - accuracy: 0.9351\n",
      "Epoch 23/25\n",
      "230/230 [==============================] - 10s 45ms/step - loss: 0.1237 - accuracy: 0.9353\n",
      "Epoch 24/25\n",
      "230/230 [==============================] - 11s 46ms/step - loss: 0.1237 - accuracy: 0.9351\n",
      "Epoch 25/25\n",
      "230/230 [==============================] - 11s 46ms/step - loss: 0.1233 - accuracy: 0.9355\n",
      "2388/2388 [==============================] - 8s 3ms/step - loss: 0.1855 - accuracy: 0.9278\n",
      "Mean: 0.9327\n",
      "Standard deviation 0.0035\n",
      "Epoch 1/25\n",
      "230/230 [==============================] - 7s 28ms/step - loss: 0.2126 - accuracy: 0.9057\n",
      "Epoch 2/25\n"
     ]
    },
    {
     "name": "stdout",
     "output_type": "stream",
     "text": [
      "230/230 [==============================] - 5s 22ms/step - loss: 0.1679 - accuracy: 0.9167\n",
      "Epoch 3/25\n",
      "230/230 [==============================] - 5s 20ms/step - loss: 0.1606 - accuracy: 0.9179\n",
      "Epoch 4/25\n",
      "230/230 [==============================] - 4s 18ms/step - loss: 0.1562 - accuracy: 0.9189\n",
      "Epoch 5/25\n",
      "230/230 [==============================] - 4s 19ms/step - loss: 0.1521 - accuracy: 0.9207\n",
      "Epoch 6/25\n",
      "230/230 [==============================] - 6s 25ms/step - loss: 0.1473 - accuracy: 0.9240\n",
      "Epoch 7/25\n",
      "230/230 [==============================] - 5s 23ms/step - loss: 0.1431 - accuracy: 0.9264\n",
      "Epoch 8/25\n",
      "230/230 [==============================] - 5s 22ms/step - loss: 0.1397 - accuracy: 0.9284\n",
      "Epoch 9/25\n",
      "230/230 [==============================] - 6s 25ms/step - loss: 0.1366 - accuracy: 0.9300\n",
      "Epoch 10/25\n",
      "230/230 [==============================] - 5s 23ms/step - loss: 0.1348 - accuracy: 0.9309\n",
      "Epoch 11/25\n",
      "230/230 [==============================] - 5s 22ms/step - loss: 0.1333 - accuracy: 0.9317\n",
      "Epoch 12/25\n",
      "230/230 [==============================] - 6s 27ms/step - loss: 0.1317 - accuracy: 0.9326 0s - loss: 0.1317 - accuracy: 0.\n",
      "Epoch 13/25\n",
      "230/230 [==============================] - 6s 24ms/step - loss: 0.1310 - accuracy: 0.9327\n",
      "Epoch 14/25\n",
      "230/230 [==============================] - 6s 25ms/step - loss: 0.1292 - accuracy: 0.9334\n",
      "Epoch 15/25\n",
      "230/230 [==============================] - 6s 25ms/step - loss: 0.1288 - accuracy: 0.9337\n",
      "Epoch 16/25\n",
      "230/230 [==============================] - 5s 22ms/step - loss: 0.1288 - accuracy: 0.9338\n",
      "Epoch 17/25\n",
      "230/230 [==============================] - 5s 22ms/step - loss: 0.1269 - accuracy: 0.9344\n",
      "Epoch 18/25\n",
      "230/230 [==============================] - 6s 24ms/step - loss: 0.1265 - accuracy: 0.9345\n",
      "Epoch 19/25\n",
      "230/230 [==============================] - 5s 23ms/step - loss: 0.1260 - accuracy: 0.9348\n",
      "Epoch 20/25\n",
      "230/230 [==============================] - 5s 23ms/step - loss: 0.1256 - accuracy: 0.9350\n",
      "Epoch 21/25\n",
      "230/230 [==============================] - 5s 23ms/step - loss: 0.1253 - accuracy: 0.9349\n",
      "Epoch 22/25\n",
      "230/230 [==============================] - 5s 22ms/step - loss: 0.1252 - accuracy: 0.9353\n",
      "Epoch 23/25\n",
      "230/230 [==============================] - 5s 22ms/step - loss: 0.1237 - accuracy: 0.9356\n",
      "Epoch 24/25\n",
      "230/230 [==============================] - 5s 23ms/step - loss: 0.1240 - accuracy: 0.9354\n",
      "Epoch 25/25\n",
      "230/230 [==============================] - 5s 22ms/step - loss: 0.1232 - accuracy: 0.9355\n",
      "2388/2388 [==============================] - 4s 2ms/step - loss: 0.1521 - accuracy: 0.9335\n",
      "Mean: 0.9329\n",
      "Standard deviation 0.0030\n",
      "Epoch 1/25\n",
      "230/230 [==============================] - 6s 24ms/step - loss: 0.2156 - accuracy: 0.9036\n",
      "Epoch 2/25\n",
      "230/230 [==============================] - 6s 24ms/step - loss: 0.1702 - accuracy: 0.9153\n",
      "Epoch 3/25\n",
      "230/230 [==============================] - 4s 19ms/step - loss: 0.1634 - accuracy: 0.9167\n",
      "Epoch 4/25\n",
      "230/230 [==============================] - 4s 18ms/step - loss: 0.1592 - accuracy: 0.9180\n",
      "Epoch 5/25\n",
      "230/230 [==============================] - 4s 16ms/step - loss: 0.1556 - accuracy: 0.9193\n",
      "Epoch 6/25\n",
      "230/230 [==============================] - 3s 15ms/step - loss: 0.1525 - accuracy: 0.9205\n",
      "Epoch 7/25\n",
      "230/230 [==============================] - 4s 16ms/step - loss: 0.1497 - accuracy: 0.9219\n",
      "Epoch 8/25\n",
      "230/230 [==============================] - 4s 16ms/step - loss: 0.1467 - accuracy: 0.9235\n",
      "Epoch 9/25\n",
      "230/230 [==============================] - 3s 15ms/step - loss: 0.1437 - accuracy: 0.9250\n",
      "Epoch 10/25\n",
      "230/230 [==============================] - 3s 15ms/step - loss: 0.1400 - accuracy: 0.9274\n",
      "Epoch 11/25\n",
      "230/230 [==============================] - 4s 15ms/step - loss: 0.1377 - accuracy: 0.9289\n",
      "Epoch 12/25\n",
      "230/230 [==============================] - 4s 16ms/step - loss: 0.1344 - accuracy: 0.9304\n",
      "Epoch 13/25\n",
      "230/230 [==============================] - 4s 15ms/step - loss: 0.1325 - accuracy: 0.9314\n",
      "Epoch 14/25\n",
      "230/230 [==============================] - 3s 15ms/step - loss: 0.1313 - accuracy: 0.9323\n",
      "Epoch 15/25\n",
      "230/230 [==============================] - 3s 15ms/step - loss: 0.1299 - accuracy: 0.9327\n",
      "Epoch 16/25\n",
      "230/230 [==============================] - 4s 16ms/step - loss: 0.1282 - accuracy: 0.9335\n",
      "Epoch 17/25\n",
      "230/230 [==============================] - 4s 16ms/step - loss: 0.1272 - accuracy: 0.9339\n",
      "Epoch 18/25\n",
      "230/230 [==============================] - 3s 15ms/step - loss: 0.1273 - accuracy: 0.9341\n",
      "Epoch 19/25\n",
      "230/230 [==============================] - 4s 16ms/step - loss: 0.1259 - accuracy: 0.9344\n",
      "Epoch 20/25\n",
      "230/230 [==============================] - 4s 16ms/step - loss: 0.1248 - accuracy: 0.9350\n",
      "Epoch 21/25\n",
      "230/230 [==============================] - 4s 17ms/step - loss: 0.1258 - accuracy: 0.9343\n",
      "Epoch 22/25\n",
      "230/230 [==============================] - 4s 16ms/step - loss: 0.1242 - accuracy: 0.9351\n",
      "Epoch 23/25\n",
      "230/230 [==============================] - 4s 16ms/step - loss: 0.1239 - accuracy: 0.9351\n",
      "Epoch 24/25\n",
      "230/230 [==============================] - 3s 15ms/step - loss: 0.1232 - accuracy: 0.9355\n",
      "Epoch 25/25\n",
      "230/230 [==============================] - 4s 16ms/step - loss: 0.1225 - accuracy: 0.9358\n",
      "   1/2388 [..............................] - ETA: 0s - loss: 0.0208 - accuracy: 1.0000WARNING:tensorflow:Callbacks method `on_test_batch_end` is slow compared to the batch time (batch time: 0.0000s vs `on_test_batch_end` time: 0.0114s). Check your callbacks.\n",
      "2388/2388 [==============================] - 3s 1ms/step - loss: 0.1746 - accuracy: 0.9302\n",
      "Mean: 0.9324\n",
      "Standard deviation 0.0029\n",
      "Epoch 1/25\n",
      "230/230 [==============================] - 4s 17ms/step - loss: 0.2116 - accuracy: 0.9065\n",
      "Epoch 2/25\n",
      "230/230 [==============================] - 4s 18ms/step - loss: 0.1692 - accuracy: 0.9164\n",
      "Epoch 3/25\n",
      "230/230 [==============================] - 4s 17ms/step - loss: 0.1622 - accuracy: 0.9179\n",
      "Epoch 4/25\n",
      "230/230 [==============================] - 4s 16ms/step - loss: 0.1582 - accuracy: 0.9186\n",
      "Epoch 5/25\n",
      "230/230 [==============================] - 4s 16ms/step - loss: 0.1539 - accuracy: 0.9197\n",
      "Epoch 6/25\n",
      "230/230 [==============================] - 4s 18ms/step - loss: 0.1503 - accuracy: 0.9220\n",
      "Epoch 7/25\n",
      "230/230 [==============================] - 4s 17ms/step - loss: 0.1462 - accuracy: 0.9247\n",
      "Epoch 8/25\n",
      "230/230 [==============================] - 4s 17ms/step - loss: 0.1423 - accuracy: 0.9271\n",
      "Epoch 9/25\n",
      "230/230 [==============================] - 4s 16ms/step - loss: 0.1398 - accuracy: 0.9285\n",
      "Epoch 10/25\n",
      "230/230 [==============================] - 4s 17ms/step - loss: 0.1369 - accuracy: 0.9299\n",
      "Epoch 11/25\n",
      "230/230 [==============================] - 4s 17ms/step - loss: 0.1347 - accuracy: 0.9310\n",
      "Epoch 12/25\n",
      "230/230 [==============================] - 4s 16ms/step - loss: 0.1333 - accuracy: 0.9316\n",
      "Epoch 13/25\n",
      "230/230 [==============================] - 4s 16ms/step - loss: 0.1316 - accuracy: 0.9324\n",
      "Epoch 14/25\n",
      "230/230 [==============================] - 4s 17ms/step - loss: 0.1301 - accuracy: 0.9330\n",
      "Epoch 15/25\n",
      "230/230 [==============================] - 4s 17ms/step - loss: 0.1296 - accuracy: 0.9333\n",
      "Epoch 16/25\n",
      "230/230 [==============================] - 4s 17ms/step - loss: 0.1285 - accuracy: 0.9337\n",
      "Epoch 17/25\n",
      "230/230 [==============================] - 4s 17ms/step - loss: 0.1276 - accuracy: 0.9341\n",
      "Epoch 18/25\n",
      "230/230 [==============================] - 4s 17ms/step - loss: 0.1272 - accuracy: 0.9342\n",
      "Epoch 19/25\n",
      "230/230 [==============================] - 4s 17ms/step - loss: 0.1271 - accuracy: 0.9344\n",
      "Epoch 20/25\n",
      "230/230 [==============================] - 4s 16ms/step - loss: 0.1261 - accuracy: 0.9347\n",
      "Epoch 21/25\n",
      "230/230 [==============================] - 4s 16ms/step - loss: 0.1258 - accuracy: 0.9348\n",
      "Epoch 22/25\n",
      "230/230 [==============================] - 4s 17ms/step - loss: 0.1249 - accuracy: 0.9351\n",
      "Epoch 23/25\n",
      "230/230 [==============================] - 4s 18ms/step - loss: 0.1244 - accuracy: 0.9353\n",
      "Epoch 24/25\n",
      "230/230 [==============================] - 4s 17ms/step - loss: 0.1237 - accuracy: 0.9356\n",
      "Epoch 25/25\n",
      "230/230 [==============================] - 4s 16ms/step - loss: 0.1237 - accuracy: 0.9357\n",
      "2388/2388 [==============================] - 3s 1ms/step - loss: 0.1840 - accuracy: 0.9283\n",
      "Mean: 0.9317\n",
      "Standard deviation 0.0031\n"
     ]
    },
    {
     "name": "stdout",
     "output_type": "stream",
     "text": [
      "Epoch 1/25\n",
      "230/230 [==============================] - 3s 15ms/step - loss: 0.2111 - accuracy: 0.9051\n",
      "Epoch 2/25\n",
      "230/230 [==============================] - 3s 14ms/step - loss: 0.1681 - accuracy: 0.9156\n",
      "Epoch 3/25\n",
      "230/230 [==============================] - 3s 14ms/step - loss: 0.1606 - accuracy: 0.9174\n",
      "Epoch 4/25\n",
      "230/230 [==============================] - 3s 15ms/step - loss: 0.1550 - accuracy: 0.9195\n",
      "Epoch 5/25\n",
      "230/230 [==============================] - 4s 15ms/step - loss: 0.1515 - accuracy: 0.9215\n",
      "Epoch 6/25\n",
      "230/230 [==============================] - 3s 14ms/step - loss: 0.1479 - accuracy: 0.9236\n",
      "Epoch 7/25\n",
      "230/230 [==============================] - 3s 14ms/step - loss: 0.1444 - accuracy: 0.9255\n",
      "Epoch 8/25\n",
      "230/230 [==============================] - 3s 14ms/step - loss: 0.1402 - accuracy: 0.9279\n",
      "Epoch 9/25\n",
      "230/230 [==============================] - 3s 14ms/step - loss: 0.1373 - accuracy: 0.9294\n",
      "Epoch 10/25\n",
      "230/230 [==============================] - 3s 15ms/step - loss: 0.1353 - accuracy: 0.9307\n",
      "Epoch 11/25\n",
      "230/230 [==============================] - 4s 16ms/step - loss: 0.1342 - accuracy: 0.9310\n",
      "Epoch 12/25\n",
      "230/230 [==============================] - 4s 16ms/step - loss: 0.1325 - accuracy: 0.9316\n",
      "Epoch 13/25\n",
      "230/230 [==============================] - 4s 15ms/step - loss: 0.1309 - accuracy: 0.9324\n",
      "Epoch 14/25\n",
      "230/230 [==============================] - 4s 18ms/step - loss: 0.1313 - accuracy: 0.9322\n",
      "Epoch 15/25\n",
      "230/230 [==============================] - 4s 16ms/step - loss: 0.1291 - accuracy: 0.9331\n",
      "Epoch 16/25\n",
      "230/230 [==============================] - 3s 14ms/step - loss: 0.1280 - accuracy: 0.9336\n",
      "Epoch 17/25\n",
      "230/230 [==============================] - 3s 14ms/step - loss: 0.1274 - accuracy: 0.9339\n",
      "Epoch 18/25\n",
      "230/230 [==============================] - 3s 14ms/step - loss: 0.1273 - accuracy: 0.9339\n",
      "Epoch 19/25\n",
      "230/230 [==============================] - 3s 15ms/step - loss: 0.1259 - accuracy: 0.9343\n",
      "Epoch 20/25\n",
      "230/230 [==============================] - 3s 14ms/step - loss: 0.1257 - accuracy: 0.9343\n",
      "Epoch 21/25\n",
      "230/230 [==============================] - 3s 14ms/step - loss: 0.1254 - accuracy: 0.9345\n",
      "Epoch 22/25\n",
      "230/230 [==============================] - 3s 14ms/step - loss: 0.1240 - accuracy: 0.9350\n",
      "Epoch 23/25\n",
      "230/230 [==============================] - 3s 14ms/step - loss: 0.1244 - accuracy: 0.9348\n",
      "Epoch 24/25\n",
      "230/230 [==============================] - 3s 15ms/step - loss: 0.1256 - accuracy: 0.9344\n",
      "Epoch 25/25\n",
      "230/230 [==============================] - 3s 14ms/step - loss: 0.1242 - accuracy: 0.9346\n",
      "2388/2388 [==============================] - 3s 1ms/step - loss: 0.1976 - accuracy: 0.9338\n",
      "Mean: 0.9320\n",
      "Standard deviation 0.0029\n",
      "Epoch 1/25\n",
      "230/230 [==============================] - 4s 16ms/step - loss: 0.2189 - accuracy: 0.9025\n",
      "Epoch 2/25\n",
      "230/230 [==============================] - 4s 16ms/step - loss: 0.1689 - accuracy: 0.9160\n",
      "Epoch 3/25\n",
      "230/230 [==============================] - 3s 15ms/step - loss: 0.1605 - accuracy: 0.9178\n",
      "Epoch 4/25\n",
      "230/230 [==============================] - 3s 15ms/step - loss: 0.1551 - accuracy: 0.9195\n",
      "Epoch 5/25\n",
      "230/230 [==============================] - 4s 15ms/step - loss: 0.1495 - accuracy: 0.9228\n",
      "Epoch 6/25\n",
      "230/230 [==============================] - 4s 16ms/step - loss: 0.1447 - accuracy: 0.9257\n",
      "Epoch 7/25\n",
      "230/230 [==============================] - 4s 15ms/step - loss: 0.1411 - accuracy: 0.9279\n",
      "Epoch 8/25\n",
      "230/230 [==============================] - 3s 15ms/step - loss: 0.1385 - accuracy: 0.9294\n",
      "Epoch 9/25\n",
      "230/230 [==============================] - 3s 15ms/step - loss: 0.1353 - accuracy: 0.9307\n",
      "Epoch 10/25\n",
      "230/230 [==============================] - 4s 16ms/step - loss: 0.1340 - accuracy: 0.9313\n",
      "Epoch 11/25\n",
      "230/230 [==============================] - 4s 16ms/step - loss: 0.1325 - accuracy: 0.9320\n",
      "Epoch 12/25\n",
      "230/230 [==============================] - 3s 15ms/step - loss: 0.1305 - accuracy: 0.9328\n",
      "Epoch 13/25\n",
      "230/230 [==============================] - 3s 15ms/step - loss: 0.1296 - accuracy: 0.9333\n",
      "Epoch 14/25\n",
      "230/230 [==============================] - 4s 16ms/step - loss: 0.1284 - accuracy: 0.9338\n",
      "Epoch 15/25\n",
      "230/230 [==============================] - 4s 16ms/step - loss: 0.1284 - accuracy: 0.9338\n",
      "Epoch 16/25\n",
      "230/230 [==============================] - 4s 15ms/step - loss: 0.1267 - accuracy: 0.9345\n",
      "Epoch 17/25\n",
      "230/230 [==============================] - 3s 15ms/step - loss: 0.1258 - accuracy: 0.9350\n",
      "Epoch 18/25\n",
      "230/230 [==============================] - 3s 15ms/step - loss: 0.1255 - accuracy: 0.9352\n",
      "Epoch 19/25\n",
      "230/230 [==============================] - 4s 16ms/step - loss: 0.1245 - accuracy: 0.9354\n",
      "Epoch 20/25\n",
      "230/230 [==============================] - 4s 16ms/step - loss: 0.1250 - accuracy: 0.9353\n",
      "Epoch 21/25\n",
      "230/230 [==============================] - 3s 15ms/step - loss: 0.1240 - accuracy: 0.9357\n",
      "Epoch 22/25\n",
      "230/230 [==============================] - 3s 15ms/step - loss: 0.1232 - accuracy: 0.9359\n",
      "Epoch 23/25\n",
      "230/230 [==============================] - 3s 15ms/step - loss: 0.1232 - accuracy: 0.9359\n",
      "Epoch 24/25\n",
      "230/230 [==============================] - 4s 16ms/step - loss: 0.1251 - accuracy: 0.9346\n",
      "Epoch 25/25\n",
      "230/230 [==============================] - 4s 15ms/step - loss: 0.1232 - accuracy: 0.9357\n",
      "2388/2388 [==============================] - ETA: 0s - loss: 0.1549 - accuracy: 0.93 - 3s 1ms/step - loss: 0.1545 - accuracy: 0.9353\n",
      "Mean: 0.9324\n",
      "Standard deviation 0.0030\n",
      "Epoch 1/25\n",
      "230/230 [==============================] - 3s 15ms/step - loss: 0.2120 - accuracy: 0.9057\n",
      "Epoch 2/25\n",
      "230/230 [==============================] - 4s 15ms/step - loss: 0.1693 - accuracy: 0.9161\n",
      "Epoch 3/25\n",
      "230/230 [==============================] - 3s 15ms/step - loss: 0.1628 - accuracy: 0.9173\n",
      "Epoch 4/25\n",
      "230/230 [==============================] - 3s 14ms/step - loss: 0.1586 - accuracy: 0.9180\n",
      "Epoch 5/25\n",
      "230/230 [==============================] - 3s 14ms/step - loss: 0.1550 - accuracy: 0.9186\n",
      "Epoch 6/25\n",
      "230/230 [==============================] - 3s 15ms/step - loss: 0.1519 - accuracy: 0.9199\n",
      "Epoch 7/25\n",
      "230/230 [==============================] - 4s 15ms/step - loss: 0.1488 - accuracy: 0.9218\n",
      "Epoch 8/25\n",
      "230/230 [==============================] - 3s 15ms/step - loss: 0.1459 - accuracy: 0.9241\n",
      "Epoch 9/25\n",
      "230/230 [==============================] - 3s 14ms/step - loss: 0.1428 - accuracy: 0.9262\n",
      "Epoch 10/25\n",
      "230/230 [==============================] - 3s 14ms/step - loss: 0.1404 - accuracy: 0.9280\n",
      "Epoch 11/25\n",
      "230/230 [==============================] - 3s 15ms/step - loss: 0.1377 - accuracy: 0.9293\n",
      "Epoch 12/25\n",
      "230/230 [==============================] - 4s 15ms/step - loss: 0.1355 - accuracy: 0.9306\n",
      "Epoch 13/25\n",
      "230/230 [==============================] - 3s 15ms/step - loss: 0.1342 - accuracy: 0.9313\n",
      "Epoch 14/25\n",
      "230/230 [==============================] - 3s 14ms/step - loss: 0.1322 - accuracy: 0.9322\n",
      "Epoch 15/25\n",
      "230/230 [==============================] - 3s 14ms/step - loss: 0.1307 - accuracy: 0.9330\n",
      "Epoch 16/25\n",
      "230/230 [==============================] - 3s 15ms/step - loss: 0.1311 - accuracy: 0.9331\n",
      "Epoch 17/25\n",
      "230/230 [==============================] - 3s 14ms/step - loss: 0.1284 - accuracy: 0.9338\n",
      "Epoch 18/25\n",
      "230/230 [==============================] - 3s 14ms/step - loss: 0.1283 - accuracy: 0.9339\n",
      "Epoch 19/25\n",
      "230/230 [==============================] - 3s 14ms/step - loss: 0.1265 - accuracy: 0.9346\n",
      "Epoch 20/25\n",
      "230/230 [==============================] - 3s 14ms/step - loss: 0.1264 - accuracy: 0.9345\n",
      "Epoch 21/25\n",
      "230/230 [==============================] - 4s 15ms/step - loss: 0.1257 - accuracy: 0.9349\n",
      "Epoch 22/25\n",
      "230/230 [==============================] - 3s 15ms/step - loss: 0.1261 - accuracy: 0.9349\n",
      "Epoch 23/25\n",
      "230/230 [==============================] - 3s 15ms/step - loss: 0.1242 - accuracy: 0.9354\n",
      "Epoch 24/25\n",
      "230/230 [==============================] - 3s 15ms/step - loss: 0.1247 - accuracy: 0.9349\n",
      "Epoch 25/25\n",
      "230/230 [==============================] - 3s 15ms/step - loss: 0.1244 - accuracy: 0.9352\n",
      "2388/2388 [==============================] - 3s 1ms/step - loss: 0.1449 - accuracy: 0.9358\n",
      "Mean: 0.9328\n",
      "Standard deviation 0.0030\n",
      "Epoch 1/25\n",
      "230/230 [==============================] - 3s 15ms/step - loss: 0.2068 - accuracy: 0.9075\n",
      "Epoch 2/25\n"
     ]
    },
    {
     "name": "stdout",
     "output_type": "stream",
     "text": [
      "230/230 [==============================] - 3s 15ms/step - loss: 0.1663 - accuracy: 0.9162\n",
      "Epoch 3/25\n",
      "230/230 [==============================] - 4s 16ms/step - loss: 0.1595 - accuracy: 0.9179\n",
      "Epoch 4/25\n",
      "230/230 [==============================] - 4s 17ms/step - loss: 0.1562 - accuracy: 0.9190\n",
      "Epoch 5/25\n",
      "230/230 [==============================] - 3s 15ms/step - loss: 0.1524 - accuracy: 0.9201\n",
      "Epoch 6/25\n",
      "230/230 [==============================] - 3s 15ms/step - loss: 0.1488 - accuracy: 0.9218\n",
      "Epoch 7/25\n",
      "230/230 [==============================] - 3s 15ms/step - loss: 0.1446 - accuracy: 0.9248\n",
      "Epoch 8/25\n",
      "230/230 [==============================] - 4s 15ms/step - loss: 0.1415 - accuracy: 0.9272\n",
      "Epoch 9/25\n",
      "230/230 [==============================] - 3s 15ms/step - loss: 0.1385 - accuracy: 0.9289\n",
      "Epoch 10/25\n",
      "230/230 [==============================] - 3s 14ms/step - loss: 0.1357 - accuracy: 0.9305\n",
      "Epoch 11/25\n",
      "230/230 [==============================] - 3s 14ms/step - loss: 0.1338 - accuracy: 0.9314\n",
      "Epoch 12/25\n",
      "230/230 [==============================] - 3s 15ms/step - loss: 0.1314 - accuracy: 0.9325\n",
      "Epoch 13/25\n",
      "230/230 [==============================] - 4s 15ms/step - loss: 0.1307 - accuracy: 0.9330\n",
      "Epoch 14/25\n",
      "230/230 [==============================] - 3s 15ms/step - loss: 0.1292 - accuracy: 0.9334\n",
      "Epoch 15/25\n",
      "230/230 [==============================] - 3s 15ms/step - loss: 0.1287 - accuracy: 0.9336\n",
      "Epoch 16/25\n",
      "230/230 [==============================] - 3s 14ms/step - loss: 0.1271 - accuracy: 0.9341\n",
      "Epoch 17/25\n",
      "230/230 [==============================] - 4s 15ms/step - loss: 0.1266 - accuracy: 0.9343\n",
      "Epoch 18/25\n",
      "230/230 [==============================] - 3s 15ms/step - loss: 0.1251 - accuracy: 0.9350\n",
      "Epoch 19/25\n",
      "230/230 [==============================] - 4s 15ms/step - loss: 0.1254 - accuracy: 0.9350\n",
      "Epoch 20/25\n",
      "230/230 [==============================] - 3s 15ms/step - loss: 0.1248 - accuracy: 0.9351\n",
      "Epoch 21/25\n",
      "230/230 [==============================] - 4s 16ms/step - loss: 0.1238 - accuracy: 0.9355\n",
      "Epoch 22/25\n",
      "230/230 [==============================] - 4s 15ms/step - loss: 0.1238 - accuracy: 0.9354\n",
      "Epoch 23/25\n",
      "230/230 [==============================] - 3s 15ms/step - loss: 0.1227 - accuracy: 0.9360\n",
      "Epoch 24/25\n",
      "230/230 [==============================] - 3s 14ms/step - loss: 0.1233 - accuracy: 0.9357\n",
      "Epoch 25/25\n",
      "230/230 [==============================] - 3s 15ms/step - loss: 0.1223 - accuracy: 0.9360\n",
      "   1/2388 [..............................] - ETA: 0s - loss: 0.0423 - accuracy: 0.9688WARNING:tensorflow:Callbacks method `on_test_batch_end` is slow compared to the batch time (batch time: 0.0000s vs `on_test_batch_end` time: 0.0146s). Check your callbacks.\n",
      "2388/2388 [==============================] - 3s 1ms/step - loss: 0.1440 - accuracy: 0.9354\n",
      "Mean: 0.9331\n",
      "Standard deviation 0.0030\n"
     ]
    }
   ],
   "source": [
    "from sklearn.model_selection import StratifiedKFold\n",
    "\n",
    "# Define 10-fold cross validation\n",
    "k_fold = StratifiedKFold(n_splits=10, shuffle=True, random_state=1234)\n",
    "\n",
    "# Loop over cross validation folds\n",
    "accuracy = []\n",
    "for train, test in k_fold.split(X, Y):    \n",
    "    Xtrain, Xtest = X[train], X[test]\n",
    "    Ytrain, Ytest = Y[train], Y[test]\n",
    "    \n",
    "    # Calculate class weights for current split\n",
    "    classWeight = class_weight.compute_class_weight(class_weight = 'balanced',\n",
    "                                                classes = np.unique(Ytrain),\n",
    "                                                y= Ytrain)\n",
    "    class_weights = {0: classWeight[0],\n",
    "                 1: classWeight[1]}\n",
    "    \n",
    "    # Rebuild the DNN model, to not continue training on the previously trained model\n",
    "    batch_size = 3000\n",
    "    epochs = 25\n",
    "    input_shape = (92,)\n",
    "\n",
    "    model12 = build_DNN(input_shape, n_layers=4, n_nodes=50, act_fun='relu', optimizer='sgd', learning_rate=0.1, \n",
    "              use_bn=True, use_dropout=False, use_custom_dropout=False)\n",
    "    \n",
    "    # Fit the model with training set and class weights for this fold\n",
    "    history12 = model12.fit(Xtrain, Ytrain,\n",
    "                      batch_size = batch_size,\n",
    "                      epochs = epochs,\n",
    "                      class_weight=class_weights)\n",
    "    \n",
    "    # Evaluate the model using the test set for this fold\n",
    "    score = model12.evaluate(Xtest, Ytest)\n",
    "    \n",
    "    # Save the test accuracy in an array\n",
    "    accuracy.append(score[1])\n",
    "    \n",
    "    # Calculate and print mean and std of accuracies\n",
    "    print('Mean: %.4f' % np.mean(accuracy))\n",
    "\n",
    "\n",
    "    print('Standard deviation %.4f' % np.std(accuracy))\n"
   ]
  },
  {
   "cell_type": "markdown",
   "metadata": {},
   "source": [
    "# Part 22: DNN regression\n",
    "\n",
    "A similar DNN can be used for regression, instead of classification.\n",
    "\n",
    "Question 24: How would you change the DNN in order to use it for regression instead?\n",
    "\n",
    "Linear activation(in Keras if no activation function is specified, linear activation is selected by default) is used for the output layer because it is a regression which is used to predict numerical values instead of transformation.\n",
    "We will have to change the loss function to something(MSE or MAE) that is more suitable for regression case.\n"
   ]
  },
  {
   "cell_type": "markdown",
   "metadata": {},
   "source": [
    "## Report\n",
    "\n",
    "Send in this jupyter notebook, with answers to all questions."
   ]
  },
  {
   "cell_type": "code",
   "execution_count": null,
   "metadata": {},
   "outputs": [],
   "source": []
  }
 ],
 "metadata": {
  "kernelspec": {
   "display_name": "Python 3",
   "language": "python",
   "name": "python3"
  },
  "language_info": {
   "codemirror_mode": {
    "name": "ipython",
    "version": 3
   },
   "file_extension": ".py",
   "mimetype": "text/x-python",
   "name": "python",
   "nbconvert_exporter": "python",
   "pygments_lexer": "ipython3",
   "version": "3.7.10"
  }
 },
 "nbformat": 4,
 "nbformat_minor": 4
}
